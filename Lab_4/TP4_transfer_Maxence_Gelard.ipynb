{
 "cells": [
  {
   "cell_type": "markdown",
   "metadata": {
    "id": "wtb5ZO5djGKi"
   },
   "source": [
    "## Author: Maxence Gélard\n",
    "maxence.gelard@student-cs.fr\n",
    "\n",
    "\n",
    "# Small data and deep learning\n",
    "This pratical session proposes to study several techniques to improve training performance in the challenging context where few data and resources are available."
   ]
  },
  {
   "cell_type": "markdown",
   "metadata": {
    "id": "nkEk9hbxjGKk"
   },
   "source": [
    "# Introduction\n",
    "Assume we are in a context where few \"gold\" labeled data are available for training, say $\\mathcal{X}_{\\text{train}}\\triangleq\\{(x_n,y_n)\\}_{n\\leq N_{\\text{train}}}$, where $N_{\\text{train}}$ is small. A large test set $\\mathcal{X}_{\\text{test}}$ is available. A large amount of unlabeled data, $\\mathcal{X}_{\\text{nolabel}}$, is available. We also assume that we have a limited computational budget (e.g., no GPUs).\n",
    "\n",
    "For each question, write a commented *Code* or a complete answer as a *Markdown*. When the objective of a question is to report a CNN accuracy, please use the following format to report it, at the end of the question :\n",
    "\n",
    "\n",
    "| Model | Number of  epochs  | Train accuracy | Test accuracy |\n",
    "|------|------|------|------|\n",
    "|   XXX  | XXX | XXX | XXX |\n",
    "\n",
    "\n",
    "If applicable, please add the field corresponding to the  __Accuracy on Full Data__ as well as a link to the __Reference paper__ you used to report those numbers. (You do not need to train a CNN on the full CIFAR10 dataset.)\n",
    "\n",
    "In your final report, please keep the logs of each training procedure you used. We will only run this jupyter if we have some doubts on your implementation. \n",
    "\n",
    "__The total file sizes should be reasonable (feasible with 2MB only!). You will be asked to hand in the notebook, together with any necessary files required to run it if any.__\n",
    "\n",
    "\n",
    "To run your experiments, you can use the same local installation as for previous TPs, or otherwise https://colab.research.google.com/."
   ]
  },
  {
   "cell_type": "code",
   "execution_count": 1,
   "metadata": {
    "id": "PuTpGJBbVVmR"
   },
   "outputs": [],
   "source": [
    "from collections import Counter\n",
    "\n",
    "import matplotlib.pyplot as plt\n",
    "import numpy as np\n",
    "import torch\n",
    "from torch.optim.lr_scheduler import StepLR\n",
    "from torch.utils.data import DataLoader\n",
    "from torch.utils.data.sampler import Sampler\n",
    "import torch.nn as nn\n",
    "import torch.nn.functional as F\n",
    "import torchvision\n",
    "import torchvision.models as models\n",
    "import torchvision.transforms as transforms\n",
    "from tqdm import tqdm\n",
    "\n",
    "device = 'cuda' if torch.cuda.is_available() else 'cpu'"
   ]
  },
  {
   "cell_type": "markdown",
   "metadata": {
    "id": "yyz4hH-GjGKk"
   },
   "source": [
    "## Training set creation\n",
    "__Question 1 (2 points) :__ Propose a dataloader that will only use the first 100 samples of the CIFAR-10 training set. \n",
    "\n",
    "*Hint* : You can modify the file located at https://github.com/pytorch/vision/blob/master/torchvision/datasets/cifar.py or use the information from https://pytorch.org/vision/stable/datasets.html"
   ]
  },
  {
   "cell_type": "markdown",
   "metadata": {
    "id": "Sx8Y526AjGKl"
   },
   "source": [
    "This is our dataset $\\mathcal{X}_{\\text{train}}$, it will be used until the end of this project. The remaining samples correspond to $\\mathcal{X}_{\\text{nolabel}}$. The testing set $\\mathcal{X}_{\\text{test}}$ corresponds to the whole testing set of CIFAR-10."
   ]
  },
  {
   "cell_type": "code",
   "execution_count": 2,
   "metadata": {
    "id": "SCeaqjCbjGKl"
   },
   "outputs": [],
   "source": [
    "class CIFAR10Dataset:\n",
    "    def __init__(self, file_location,\n",
    "                 transform_train = transforms.ToTensor(),\n",
    "                 transform_test = transforms.ToTensor(),\n",
    "                 n_training_examples: int = 100,\n",
    "                 batch_size: int = 10,\n",
    "                 n_no_labels_examples = None\n",
    "                ):\n",
    "        self.file_location = file_location\n",
    "        self.n_training_examples = n_training_examples # size of X_train\n",
    "        self.batch_size = batch_size\n",
    "        self.n_no_labels_examples = n_no_labels_examples # size of X_nolabel\n",
    "        self.transform_train = transform_train\n",
    "        self.transform_test = transform_test\n",
    "        \n",
    "\n",
    "        self.train_set = None\n",
    "        self.train_set_no_label = None\n",
    "        self.test_set = None\n",
    "        \n",
    "        self.get_datasets()\n",
    "        \n",
    "        self.train_loader = None\n",
    "        self.train_loader_no_label = None\n",
    "        self.test_loader = None\n",
    "        \n",
    "        self.get_dataloaders()\n",
    "        \n",
    "        \n",
    "    def get_datasets(self):\n",
    "        \"\"\"\n",
    "        Build the CIFAR10 dataset, applying transformation if provided\n",
    "        \"\"\"\n",
    "        cifar_10_full_train_set = torchvision.datasets.CIFAR10(\n",
    "            root=self.file_location,\n",
    "            train=True,\n",
    "            download=True,\n",
    "            transform=self.transform_train\n",
    "        )\n",
    "\n",
    "        cifar_10_test_set = torchvision.datasets.CIFAR10(\n",
    "            root=self.file_location,\n",
    "            train=False,\n",
    "            download=True,\n",
    "            transform=self.transform_test\n",
    "        )\n",
    "        \n",
    "        train_labeled_index = list(range(0, self.n_training_examples))\n",
    "        if self.n_no_labels_examples:\n",
    "          train_no_label_index = list(range(\n",
    "              self.n_training_examples, self.n_no_labels_examples + self.n_training_examples\n",
    "          ))\n",
    "        else:\n",
    "          train_no_label_index = list(range(self.n_training_examples, len(cifar_10_full_train_set)))\n",
    "           \n",
    "        cifar_10_train_set = torch.utils.data.Subset(cifar_10_full_train_set, train_labeled_index)\n",
    "        cifar_10_train_set_no_label = torch.utils.data.Subset(cifar_10_full_train_set, train_no_label_index)\n",
    "        \n",
    "        self.train_set = cifar_10_train_set\n",
    "        self.train_set_no_label = cifar_10_train_set_no_label\n",
    "        self.test_set = cifar_10_test_set\n",
    "        \n",
    "    def get_dataloaders(self):\n",
    "        \"\"\"\n",
    "        Build the dataloader that will be used during training\n",
    "        \"\"\"\n",
    "        self.train_loader = DataLoader(\n",
    "            dataset=self.train_set,\n",
    "            batch_size=self.batch_size,\n",
    "            shuffle=True,\n",
    "        )\n",
    "\n",
    "        self.train_loader_no_label = DataLoader(\n",
    "            dataset=self.train_set_no_label,\n",
    "            batch_size=self.batch_size,\n",
    "            shuffle=True,\n",
    "        )\n",
    "\n",
    "        self.test_loader = DataLoader(\n",
    "            dataset=self.test_set,\n",
    "            batch_size=self.batch_size,\n",
    "            shuffle=True,\n",
    "        )"
   ]
  },
  {
   "cell_type": "code",
   "execution_count": 3,
   "metadata": {
    "id": "JP-SE-RBa1Dd"
   },
   "outputs": [],
   "source": [
    "def compute_dataset_statistic(train_loader):\n",
    "    \"\"\"\n",
    "    Compute mean and standart deviation on the training set\n",
    "    \"\"\"\n",
    "    cumulated_sum = torch.zeros((3, 32, 32))\n",
    "    cumulated_sum_square = torch.zeros((3, 32, 32))\n",
    "    n_batch = 0\n",
    "    for image_batch, _ in iter(train_loader):\n",
    "        n_batch += 1\n",
    "        cumulated_sum += image_batch.sum(0)\n",
    "        cumulated_sum_square += (image_batch ** 2).sum(0)\n",
    "    mean = (cumulated_sum / 100).mean((1, 2))\n",
    "    mean_square = (cumulated_sum_square / 100).mean((1, 2))\n",
    "    std = torch.sqrt(mean_square - mean**2)\n",
    "    return mean, std"
   ]
  },
  {
   "cell_type": "code",
   "execution_count": 4,
   "metadata": {
    "colab": {
     "base_uri": "https://localhost:8080/",
     "height": 102,
     "referenced_widgets": [
      "b82dfaf42ad3423db93cde0e2a835fe9",
      "16aa5ea02ca54b7e80beee210167a2fa",
      "b3f012c1c5394076ad8617af3cdd8dba",
      "eed7d8d48cdd4e96852b5252a808ac1e",
      "1e474124f7da4e058b955a118c1e4054",
      "782af38c831d43ae9cfc66ade43586bd",
      "8bed0ae4107841609933a080bb5cc5be",
      "0a60854bea58412d97581f7046a4cdd4",
      "49ff3078c0394bbea32124cf9cf11381",
      "83adf2d56b1c424aa48222a22db39541",
      "c7e273ada0fe4c5ea077d0710e2d019b"
     ]
    },
    "id": "tm1MnS2WVVmZ",
    "outputId": "46399120-29f1-42f6-c092-9c4857e9307e"
   },
   "outputs": [
    {
     "name": "stdout",
     "output_type": "stream",
     "text": [
      "Downloading https://www.cs.toronto.edu/~kriz/cifar-10-python.tar.gz to ./cifar-10-python.tar.gz\n"
     ]
    },
    {
     "data": {
      "application/vnd.jupyter.widget-view+json": {
       "model_id": "b82dfaf42ad3423db93cde0e2a835fe9",
       "version_major": 2,
       "version_minor": 0
      },
      "text/plain": [
       "  0%|          | 0/170498071 [00:00<?, ?it/s]"
      ]
     },
     "metadata": {},
     "output_type": "display_data"
    },
    {
     "name": "stdout",
     "output_type": "stream",
     "text": [
      "Extracting ./cifar-10-python.tar.gz to ./\n",
      "Files already downloaded and verified\n"
     ]
    }
   ],
   "source": [
    "cifar_10_dataset = CIFAR10Dataset(file_location=\"./\")\n",
    "train_mean, train_std = compute_dataset_statistic(cifar_10_dataset.train_loader)"
   ]
  },
  {
   "cell_type": "code",
   "execution_count": 5,
   "metadata": {
    "colab": {
     "base_uri": "https://localhost:8080/"
    },
    "id": "hFnpht2eVVmb",
    "outputId": "eb5260b1-5027-4dfd-f684-923f0b3b864a"
   },
   "outputs": [
    {
     "name": "stdout",
     "output_type": "stream",
     "text": [
      "First training batch images (shape): torch.Size([10, 3, 32, 32])\n",
      "First traiing batch labels (shape): torch.Size([10])\n"
     ]
    }
   ],
   "source": [
    "# Sanity check:\n",
    "\n",
    "first_batch_images, first_batch_labels = iter(cifar_10_dataset.train_loader).next()\n",
    "\n",
    "print(f\"First training batch images (shape): {first_batch_images.shape}\")\n",
    "print(f\"First traiing batch labels (shape): {first_batch_labels.shape}\")"
   ]
  },
  {
   "cell_type": "markdown",
   "metadata": {
    "id": "kcFD3xMejGKm"
   },
   "source": [
    "## Testing procedure\n",
    "__Question 2 (1.5 points) :__ Explain why the evaluation of the training procedure is difficult. Propose several solutions."
   ]
  },
  {
   "cell_type": "markdown",
   "metadata": {
    "id": "SMQqWmkuVVmd"
   },
   "source": [
    "#### Problems related to the evaluation of the training procedure\n",
    "\n",
    "1. First, as we are only looking at the first 100 examples, it is very likely that we get an __imbalanced dataset__ in terms of classes. Let's have a look a the repartition of classes:"
   ]
  },
  {
   "cell_type": "code",
   "execution_count": 6,
   "metadata": {
    "colab": {
     "base_uri": "https://localhost:8080/",
     "height": 313
    },
    "id": "mv5dEqMCVVme",
    "outputId": "2ef4b4b5-9215-4bf5-c19b-ce782d4c7a24"
   },
   "outputs": [
    {
     "data": {
      "text/plain": [
       "Text(0.5, 1.0, 'Repartition of the class labels in the training set')"
      ]
     },
     "execution_count": 6,
     "metadata": {},
     "output_type": "execute_result"
    },
    {
     "data": {
      "image/png": "[encoded data removed]",
      "text/plain": [
       "<Figure size 432x288 with 1 Axes>"
      ]
     },
     "metadata": {
      "needs_background": "light"
     },
     "output_type": "display_data"
    }
   ],
   "source": [
    "all_labels = []\n",
    "for _, batch_labels in iter(cifar_10_dataset.train_loader):\n",
    "    all_labels += list(map(lambda x: int(x), batch_labels))\n",
    "    \n",
    "plt.hist(all_labels, alpha=0.75, rwidth=0.8, weights=[1 / len(all_labels) for _ in all_labels])\n",
    "plt.grid(axis='y', alpha=0.75)\n",
    "plt.xlabel('Label')\n",
    "plt.ylabel('Count')\n",
    "plt.title(\"Repartition of the class labels in the training set\")"
   ]
  },
  {
   "cell_type": "markdown",
   "metadata": {
    "id": "PifmrR1RVVmf"
   },
   "source": [
    "One can thus observe that some labels are significantly more represented than other (like label 1 vs. label 7), therefore any learned predictor will be __biased__ toward this skewed distribution.\n",
    "\n",
    "A naive solution, given the fact that we have access to the full labeled dataset in reality, would be to build our labeled dataset of 100 examples by selected 10 random examples of each class, thus insuring the class balance. If we are not given the full dataset (closer to reality), we could imagine a data augmentation step that will generate as many examples as needed in order for each classes to be represented by the same number of examples. For instance, label 1 has 16 examples, so we could consider that we don't build any more example for this class ; whereas we may add 12 exampels for label 7 (which for now only has 4 examples) to reach the same number of examples as for label 1. We could also under-sample the dataset by only keeping the minimum number of examples that a label has, but that would make the dataset even smaller, which is not desirable.\n",
    "\n",
    "2. A second problem concerns the model's hyperparameters tuning, which requires to build a __validation set__ from the training dataset. However, this would lead to a very small labeled dataset (even a 10% validation set would lead to have only 90 labeled training examples). \n",
    "\n",
    "A possible way to overcome this problem would be to use k-fold cross validation, thus allowing to test hyperparameters on all examples in the end. Another possibility would be to consider multiple models from which we would aggregate the predictions. There are two possibilities:\n",
    "\n",
    "    - Either we do different train / validation for each model and tune them separately to get the best hyperparameters for each one.\n",
    "    \n",
    "    - Either all models are trained on the 100 examples but with different hyperparameters (given a range of hyperparameters that we think can provide good fit). This last idea is maybe more experimental.\n",
    "    \n",
    "3. More generally, having small dataset is an easy way to overfit \n",
    "\n",
    "We could consider semi-supervised methods or transfer learning to solve this issue."
   ]
  },
  {
   "cell_type": "markdown",
   "metadata": {
    "id": "b8yeRD7CjGKm"
   },
   "source": [
    "# Raw approach: the baseline"
   ]
  },
  {
   "cell_type": "markdown",
   "metadata": {
    "id": "4dgKvuS0jGKm"
   },
   "source": [
    "In this section, the goal is to train a CNN on $\\mathcal{X}_{\\text{train}}$ and compare its performance with reported numbers from the litterature. You will have to re-use and/or design a standard classification pipeline. You should optimize your pipeline to obtain the best performances (image size, data augmentation by flip, ...).\n",
    "\n",
    "The key ingredients for training a CNN are the batch size, as well as the learning rate schedule, i.e. how to decrease the learning rate as a function of the number of epochs. A possible schedule is to start the learning rate at 0.1 and decreasing it every 30 epochs by 10. In case of divergence, reduce the learning rate. A potential batch size could be 10, yet this can be cross-validated.\n",
    "\n",
    "You can get some baselines accuracies in this paper : http://openaccess.thecvf.com/content_cvpr_2018/papers/Keshari_Learning_Structure_and_CVPR_2018_paper.pdf. Obviously, it is a different context for those researchers who had access to GPUs."
   ]
  },
  {
   "cell_type": "markdown",
   "metadata": {
    "id": "pJpkBpyWjGKn"
   },
   "source": [
    "## ResNet architectures"
   ]
  },
  {
   "cell_type": "markdown",
   "metadata": {
    "id": "z22FjUNYjGKn"
   },
   "source": [
    "__Question 3 (4 points) :__ Write a classification pipeline for $\\mathcal{X}_{\\text{train}}$, train from scratch and evaluate a *ResNet-18* architecture specific to CIFAR10 (details about the ResNet-18 model, originally designed for the ImageNet dataset, can be found here: https://arxiv.org/abs/1512.03385). Please report the accuracy obtained on the whole dataset as well as the reference paper/GitHub link.\n",
    "\n",
    "*Hint:* You can re-use the following code: https://github.com/kuangliu/pytorch-cifar. During a training of 10 epochs, a batch size of 10 and a learning rate of 0.01, one obtains 40% accuracy on $\\mathcal{X}_{\\text{train}}$ (\\~2 minutes) and 20% accuracy on $\\mathcal{X}_{\\text{test}}$ (\\~5 minutes)."
   ]
  },
  {
   "cell_type": "code",
   "execution_count": 6,
   "metadata": {
    "id": "h9wmxgUSjGKn"
   },
   "outputs": [],
   "source": [
    "# Use of the ResNet implementation from\n",
    "# https://github.com/kuangliu/pytorch-cifar\n",
    "\n",
    "class BasicResNetBlock(nn.Module):\n",
    "    expansion = 1\n",
    "\n",
    "    def __init__(self, in_planes, planes, stride=1):\n",
    "        super(BasicResNetBlock, self).__init__()\n",
    "        self.conv1 = nn.Conv2d(\n",
    "            in_planes, planes, kernel_size=3, stride=stride, padding=1, bias=False)\n",
    "        self.bn1 = nn.BatchNorm2d(planes)\n",
    "        self.conv2 = nn.Conv2d(planes, planes, kernel_size=3,\n",
    "                               stride=1, padding=1, bias=False)\n",
    "        self.bn2 = nn.BatchNorm2d(planes)\n",
    "\n",
    "        self.shortcut = nn.Sequential()\n",
    "        if stride != 1 or in_planes != self.expansion*planes:\n",
    "            self.shortcut = nn.Sequential(\n",
    "                nn.Conv2d(in_planes, self.expansion*planes,\n",
    "                          kernel_size=1, stride=stride, bias=False),\n",
    "                nn.BatchNorm2d(self.expansion*planes)\n",
    "            )\n",
    "\n",
    "    def forward(self, x):\n",
    "        out = F.relu(self.bn1(self.conv1(x)))\n",
    "        out = self.bn2(self.conv2(out))\n",
    "        out += self.shortcut(x)\n",
    "        out = F.relu(out)\n",
    "        return out\n",
    "\n",
    "class ResNet18(nn.Module):\n",
    "    def __init__(self, num_classes=10):\n",
    "        super(ResNet18, self).__init__()\n",
    "        self.in_planes = 64\n",
    "\n",
    "        self.conv1 = nn.Conv2d(3, 64, kernel_size=3,\n",
    "                               stride=1, padding=1, bias=False)\n",
    "        self.bn1 = nn.BatchNorm2d(64)\n",
    "        self.layer1 = self._make_layer(BasicResNetBlock, 64, 2, stride=1)\n",
    "        self.layer2 = self._make_layer(BasicResNetBlock, 128, 2, stride=2)\n",
    "        self.layer3 = self._make_layer(BasicResNetBlock, 256, 2, stride=2)\n",
    "        self.layer4 = self._make_layer(BasicResNetBlock, 512, 2, stride=2)\n",
    "        self.linear = nn.Linear(512*BasicResNetBlock.expansion, num_classes)\n",
    "\n",
    "    def _make_layer(self, block, planes, num_blocks, stride):\n",
    "        strides = [stride] + [1]*(num_blocks-1)\n",
    "        layers = []\n",
    "        for stride in strides:\n",
    "            layers.append(block(self.in_planes, planes, stride))\n",
    "            self.in_planes = planes * block.expansion\n",
    "        return nn.Sequential(*layers)\n",
    "\n",
    "    def forward(self, x):\n",
    "        out = F.relu(self.bn1(self.conv1(x)))\n",
    "        out = self.layer1(out)\n",
    "        out = self.layer2(out)\n",
    "        out = self.layer3(out)\n",
    "        out = self.layer4(out)\n",
    "        out = F.avg_pool2d(out, 4)\n",
    "        out = out.view(out.size(0), -1)\n",
    "        out = self.linear(out)\n",
    "        return out"
   ]
  },
  {
   "cell_type": "code",
   "execution_count": 7,
   "metadata": {
    "id": "gHlWuZoeVVmi"
   },
   "outputs": [],
   "source": [
    "class ClassificationPipeline:\n",
    "    def __init__(self, model, dataset: CIFAR10Dataset):\n",
    "        self.model = model\n",
    "        self.dataset = dataset\n",
    "        \n",
    "    def train(self, learning_rate: float, momentum: float, n_epochs: int):\n",
    "        # Define the optimizing objects\n",
    "        optimizer = torch.optim.SGD(\n",
    "            self.model.parameters(),\n",
    "            lr=learning_rate,\n",
    "            momentum=momentum,\n",
    "        )\n",
    "        learning_rate_scheduler = StepLR(\n",
    "            optimizer,\n",
    "            step_size=30,\n",
    "            gamma=0.1,\n",
    "        )\n",
    "        criterion = nn.CrossEntropyLoss()\n",
    "        \n",
    "        train_accuracies = []\n",
    "        train_losses = []\n",
    "        test_accuracies = []\n",
    "        test_losses = []\n",
    "        \n",
    "        for i in range(n_epochs):\n",
    "            print(f\"------ Epoch {i+1} / {n_epochs} ------\")\n",
    "            train_accuracy = 0\n",
    "            train_loss = 0\n",
    "            test_accuracy = 0\n",
    "            test_loss = 0\n",
    "            n_examples = 0\n",
    "            \n",
    "            for images, labels in tqdm(iter(self.dataset.train_loader)):\n",
    "                # Send to GPU if available\n",
    "                images = images.to(device)\n",
    "                labels = labels.to(device)\n",
    "\n",
    "                # Add the current number of examples in the batch\n",
    "                n_examples += images.shape[0]\n",
    "                \n",
    "                # One training step\n",
    "                optimizer.zero_grad()\n",
    "                logits = self.model(images)\n",
    "                loss = criterion(logits, labels)\n",
    "                loss.backward()\n",
    "                optimizer.step()\n",
    "                \n",
    "                # Compute train accuraciy\n",
    "                predicted_labels = torch.argmax(logits, dim=1)\n",
    "                train_accuracy += int(torch.sum(predicted_labels == labels))\n",
    "\n",
    "                train_loss += loss\n",
    "                \n",
    "            # Compute test accuracy\n",
    "            n_examples_test = 0\n",
    "            for test_images, test_labels in tqdm(iter(self.dataset.test_loader)):\n",
    "                test_images = test_images.to(device)\n",
    "                test_labels = test_labels.to(device)\n",
    "                n_examples_test += test_images.shape[0]\n",
    "                with torch.no_grad():\n",
    "                    logits_test = self.model(test_images)\n",
    "                    predicted_labels_test = torch.argmax(logits_test, dim=1)\n",
    "                    test_accuracy += int(\n",
    "                        torch.sum(predicted_labels_test == test_labels)\n",
    "                    )\n",
    "                    loss = criterion(logits_test, test_labels)\n",
    "                    test_loss += loss\n",
    "                    \n",
    "            # End of epoch, save accuracies and losses\n",
    "            train_accuracies.append(train_accuracy / n_examples * 100)\n",
    "            train_losses.append(train_loss.cpu().detach() / n_examples)\n",
    "            test_accuracies.append(test_accuracy / n_examples_test * 100)\n",
    "            test_losses.append(test_loss.cpu() / n_examples_test)\n",
    "            \n",
    "        return train_accuracies, test_accuracies, train_losses, test_losses   "
   ]
  },
  {
   "cell_type": "code",
   "execution_count": 8,
   "metadata": {
    "colab": {
     "base_uri": "https://localhost:8080/"
    },
    "id": "K2ORcj97VVml",
    "outputId": "b47ff5ea-2fbc-475e-beb3-c0b35b560dd5"
   },
   "outputs": [
    {
     "name": "stdout",
     "output_type": "stream",
     "text": [
      "Files already downloaded and verified\n",
      "Files already downloaded and verified\n"
     ]
    }
   ],
   "source": [
    "# Build data transformer \n",
    "# inspired from https://github.com/kuangliu/pytorch-cifar\n",
    "# but without hardcoding the normalization\n",
    "\n",
    "transform_train_set = transforms.Compose([\n",
    "    transforms.ToTensor(),\n",
    "    transforms.Normalize(train_mean, train_std),\n",
    "])\n",
    "\n",
    "transform_test_set = transforms.Compose([\n",
    "    transforms.ToTensor(),\n",
    "    transforms.Normalize(train_mean, train_std),\n",
    "])\n",
    "\n",
    "cifar_10_dataset = CIFAR10Dataset(\n",
    "    file_location=\"./\",\n",
    "    transform_train=transform_train_set,\n",
    "    transform_test=transform_test_set,\n",
    ")"
   ]
  },
  {
   "cell_type": "code",
   "execution_count": 10,
   "metadata": {
    "id": "2_vjSkESVVml"
   },
   "outputs": [],
   "source": [
    "res_net_18 = ResNet18()\n",
    "res_net_18 = res_net_18.to(device)\n",
    "classif_pipeline = ClassificationPipeline(res_net_18, cifar_10_dataset)"
   ]
  },
  {
   "cell_type": "code",
   "execution_count": 11,
   "metadata": {
    "colab": {
     "base_uri": "https://localhost:8080/"
    },
    "id": "bgubT71QVVmm",
    "outputId": "5c506416-cffc-42fd-cff5-f673fcfe9b57"
   },
   "outputs": [
    {
     "name": "stdout",
     "output_type": "stream",
     "text": [
      "------ Epoch 1 / 20 ------\n"
     ]
    },
    {
     "name": "stderr",
     "output_type": "stream",
     "text": [
      "100%|██████████| 10/10 [00:00<00:00, 24.53it/s]\n",
      "100%|██████████| 1000/1000 [00:09<00:00, 102.56it/s]\n"
     ]
    },
    {
     "name": "stdout",
     "output_type": "stream",
     "text": [
      "------ Epoch 2 / 20 ------\n"
     ]
    },
    {
     "name": "stderr",
     "output_type": "stream",
     "text": [
      "100%|██████████| 10/10 [00:00<00:00, 35.65it/s]\n",
      "100%|██████████| 1000/1000 [00:14<00:00, 67.01it/s]\n"
     ]
    },
    {
     "name": "stdout",
     "output_type": "stream",
     "text": [
      "------ Epoch 3 / 20 ------\n"
     ]
    },
    {
     "name": "stderr",
     "output_type": "stream",
     "text": [
      "100%|██████████| 10/10 [00:00<00:00, 35.15it/s]\n",
      "100%|██████████| 1000/1000 [00:09<00:00, 102.30it/s]\n"
     ]
    },
    {
     "name": "stdout",
     "output_type": "stream",
     "text": [
      "------ Epoch 4 / 20 ------\n"
     ]
    },
    {
     "name": "stderr",
     "output_type": "stream",
     "text": [
      "100%|██████████| 10/10 [00:00<00:00, 36.02it/s]\n",
      "100%|██████████| 1000/1000 [00:09<00:00, 101.36it/s]\n"
     ]
    },
    {
     "name": "stdout",
     "output_type": "stream",
     "text": [
      "------ Epoch 5 / 20 ------\n"
     ]
    },
    {
     "name": "stderr",
     "output_type": "stream",
     "text": [
      "100%|██████████| 10/10 [00:00<00:00, 35.33it/s]\n",
      "100%|██████████| 1000/1000 [00:10<00:00, 92.50it/s]\n"
     ]
    },
    {
     "name": "stdout",
     "output_type": "stream",
     "text": [
      "------ Epoch 6 / 20 ------\n"
     ]
    },
    {
     "name": "stderr",
     "output_type": "stream",
     "text": [
      "100%|██████████| 10/10 [00:00<00:00, 35.44it/s]\n",
      "100%|██████████| 1000/1000 [00:09<00:00, 101.83it/s]\n"
     ]
    },
    {
     "name": "stdout",
     "output_type": "stream",
     "text": [
      "------ Epoch 7 / 20 ------\n"
     ]
    },
    {
     "name": "stderr",
     "output_type": "stream",
     "text": [
      "100%|██████████| 10/10 [00:00<00:00, 35.90it/s]\n",
      "100%|██████████| 1000/1000 [00:09<00:00, 101.62it/s]\n"
     ]
    },
    {
     "name": "stdout",
     "output_type": "stream",
     "text": [
      "------ Epoch 8 / 20 ------\n"
     ]
    },
    {
     "name": "stderr",
     "output_type": "stream",
     "text": [
      "100%|██████████| 10/10 [00:00<00:00, 34.95it/s]\n",
      "100%|██████████| 1000/1000 [00:09<00:00, 100.80it/s]\n"
     ]
    },
    {
     "name": "stdout",
     "output_type": "stream",
     "text": [
      "------ Epoch 9 / 20 ------\n"
     ]
    },
    {
     "name": "stderr",
     "output_type": "stream",
     "text": [
      "100%|██████████| 10/10 [00:00<00:00, 35.64it/s]\n",
      "100%|██████████| 1000/1000 [00:10<00:00, 93.34it/s]\n"
     ]
    },
    {
     "name": "stdout",
     "output_type": "stream",
     "text": [
      "------ Epoch 10 / 20 ------\n"
     ]
    },
    {
     "name": "stderr",
     "output_type": "stream",
     "text": [
      "100%|██████████| 10/10 [00:00<00:00, 36.06it/s]\n",
      "100%|██████████| 1000/1000 [00:09<00:00, 101.76it/s]\n"
     ]
    },
    {
     "name": "stdout",
     "output_type": "stream",
     "text": [
      "------ Epoch 11 / 20 ------\n"
     ]
    },
    {
     "name": "stderr",
     "output_type": "stream",
     "text": [
      "100%|██████████| 10/10 [00:00<00:00, 34.95it/s]\n",
      "100%|██████████| 1000/1000 [00:09<00:00, 100.47it/s]\n"
     ]
    },
    {
     "name": "stdout",
     "output_type": "stream",
     "text": [
      "------ Epoch 12 / 20 ------\n"
     ]
    },
    {
     "name": "stderr",
     "output_type": "stream",
     "text": [
      "100%|██████████| 10/10 [00:00<00:00, 35.44it/s]\n",
      "100%|██████████| 1000/1000 [00:09<00:00, 101.47it/s]\n"
     ]
    },
    {
     "name": "stdout",
     "output_type": "stream",
     "text": [
      "------ Epoch 13 / 20 ------\n"
     ]
    },
    {
     "name": "stderr",
     "output_type": "stream",
     "text": [
      "100%|██████████| 10/10 [00:00<00:00, 36.41it/s]\n",
      "100%|██████████| 1000/1000 [00:09<00:00, 101.30it/s]\n"
     ]
    },
    {
     "name": "stdout",
     "output_type": "stream",
     "text": [
      "------ Epoch 14 / 20 ------\n"
     ]
    },
    {
     "name": "stderr",
     "output_type": "stream",
     "text": [
      "100%|██████████| 10/10 [00:00<00:00, 35.38it/s]\n",
      "100%|██████████| 1000/1000 [00:09<00:00, 100.90it/s]\n"
     ]
    },
    {
     "name": "stdout",
     "output_type": "stream",
     "text": [
      "------ Epoch 15 / 20 ------\n"
     ]
    },
    {
     "name": "stderr",
     "output_type": "stream",
     "text": [
      "100%|██████████| 10/10 [00:00<00:00, 35.85it/s]\n",
      "100%|██████████| 1000/1000 [00:09<00:00, 101.45it/s]\n"
     ]
    },
    {
     "name": "stdout",
     "output_type": "stream",
     "text": [
      "------ Epoch 16 / 20 ------\n"
     ]
    },
    {
     "name": "stderr",
     "output_type": "stream",
     "text": [
      "100%|██████████| 10/10 [00:00<00:00, 35.60it/s]\n",
      "100%|██████████| 1000/1000 [00:09<00:00, 101.91it/s]\n"
     ]
    },
    {
     "name": "stdout",
     "output_type": "stream",
     "text": [
      "------ Epoch 17 / 20 ------\n"
     ]
    },
    {
     "name": "stderr",
     "output_type": "stream",
     "text": [
      "100%|██████████| 10/10 [00:00<00:00, 35.15it/s]\n",
      "100%|██████████| 1000/1000 [00:09<00:00, 101.18it/s]\n"
     ]
    },
    {
     "name": "stdout",
     "output_type": "stream",
     "text": [
      "------ Epoch 18 / 20 ------\n"
     ]
    },
    {
     "name": "stderr",
     "output_type": "stream",
     "text": [
      "100%|██████████| 10/10 [00:00<00:00, 35.21it/s]\n",
      "100%|██████████| 1000/1000 [00:09<00:00, 100.95it/s]\n"
     ]
    },
    {
     "name": "stdout",
     "output_type": "stream",
     "text": [
      "------ Epoch 19 / 20 ------\n"
     ]
    },
    {
     "name": "stderr",
     "output_type": "stream",
     "text": [
      "100%|██████████| 10/10 [00:00<00:00, 35.66it/s]\n",
      "100%|██████████| 1000/1000 [00:09<00:00, 101.06it/s]\n"
     ]
    },
    {
     "name": "stdout",
     "output_type": "stream",
     "text": [
      "------ Epoch 20 / 20 ------\n"
     ]
    },
    {
     "name": "stderr",
     "output_type": "stream",
     "text": [
      "100%|██████████| 10/10 [00:00<00:00, 35.51it/s]\n",
      "100%|██████████| 1000/1000 [00:09<00:00, 101.61it/s]\n"
     ]
    }
   ],
   "source": [
    "train_accuracies, test_accuracies, train_losses, test_losses = classif_pipeline.train(\n",
    "    learning_rate=0.005, momentum=0.85, n_epochs=20\n",
    "  )"
   ]
  },
  {
   "cell_type": "code",
   "execution_count": 9,
   "metadata": {
    "id": "wAAFEo_loSdc"
   },
   "outputs": [],
   "source": [
    "def plot_model_results(train_accuracies,\n",
    "                       test_accuracies,\n",
    "                       train_loss,\n",
    "                       test_loss\n",
    "                       ):\n",
    "  \n",
    "  fig, ax = plt.subplots(1, 2, figsize=(16, 10))\n",
    "\n",
    "  plt.subplot(1, 2, 1)\n",
    "  plt.plot(train_accuracies, label=\"train accuracy\")\n",
    "  plt.plot(test_accuracies, label=\"test accuracy\")\n",
    "  plt.xlabel(\"Epochs\")\n",
    "  plt.ylabel(\"Accuracy\")\n",
    "  plt.title(\"Evolution of the accuracy across epochs\")\n",
    "  plt.legend()\n",
    "\n",
    "  plt.subplot(1, 2, 2)\n",
    "  plt.plot(train_loss, label=\"train loss\")\n",
    "  plt.plot(test_loss, label=\"test loss\")\n",
    "  plt.xlabel(\"Epochs\")\n",
    "  plt.ylabel(\"Loss\")\n",
    "  plt.title(\"Evolution of the loss across epochs\")\n",
    "  plt.legend()\n",
    "\n",
    "  print(f\"Final training accuracy: {train_accuracies[-1]}\")\n",
    "  print(f\"Final test accuracy: {test_accuracies[-1]}\")\n",
    "\n",
    "  plt.show()"
   ]
  },
  {
   "cell_type": "code",
   "execution_count": 12,
   "metadata": {
    "colab": {
     "base_uri": "https://localhost:8080/",
     "height": 656
    },
    "id": "HJvl7k-DWR7h",
    "outputId": "aae35f97-f080-45ff-d0e0-1348d074cc2b"
   },
   "outputs": [
    {
     "name": "stdout",
     "output_type": "stream",
     "text": [
      "Final training accuracy: 100.0\n",
      "Final test accuracy: 21.5\n"
     ]
    },
    {
     "data": {
      "image/png": "[encoded data removed]",
      "text/plain": [
       "<Figure size 1152x720 with 2 Axes>"
      ]
     },
     "metadata": {
      "needs_background": "light"
     },
     "output_type": "display_data"
    }
   ],
   "source": [
    "plot_model_results(train_accuracies, test_accuracies, train_losses, test_losses)"
   ]
  },
  {
   "cell_type": "markdown",
   "metadata": {
    "id": "gwztFNl1ejxM"
   },
   "source": [
    "The same GitHub repository from which the ResNet code has been extracted (https://github.com/kuangliu/pytorch-cifar) provides a list of the accuracy achieved by different models on the whole CIFAR10 dataset. For ResNet18, the test accuracy on the whole dataset is 93.02%.\n",
    "\n",
    "Below is given the summary of the training:\n",
    "\n",
    "\n",
    "| Model | Number of  epochs  | Train accuracy | Test accuracy | Full Dataset Test accuracy |\n",
    "|------|------|------|------|------|\n",
    "|   RestNet18  | 20 | 100.0% | 21.5% | 93.02% |\n",
    "\n",
    "So as predicted in the second question, it is very easy to overfit with such small dataset, so we need to investigate transfer learning techniques."
   ]
  },
  {
   "cell_type": "markdown",
   "metadata": {
    "id": "JLv78we5jGKo"
   },
   "source": [
    "# Transfer learning"
   ]
  },
  {
   "cell_type": "markdown",
   "metadata": {
    "id": "et0xds0xjGKo"
   },
   "source": [
    "We propose to use pre-trained models on a classification task, in order to improve the results of our setting."
   ]
  },
  {
   "cell_type": "markdown",
   "metadata": {
    "id": "ErqP4xNMjGKo"
   },
   "source": [
    "## ImageNet features"
   ]
  },
  {
   "cell_type": "markdown",
   "metadata": {
    "id": "CyHaYiMCjGKo"
   },
   "source": [
    "Now, we will use a model pre-trained on ImageNet and see how well it performs on CIFAR. A list of ImageNet pre-trained models is available on : https://pytorch.org/vision/stable/models.html\n",
    "\n",
    "__Question 4 (3 points) :__ Pick a model from the list above, adapt it for CIFAR and retrain its final layer (or a block of layers, depending on the resources to which you have access to). Report its accuracy."
   ]
  },
  {
   "cell_type": "code",
   "execution_count": 13,
   "metadata": {
    "id": "DQu_qudYjGKo"
   },
   "outputs": [],
   "source": [
    "def load_pretrained_model(model_function, n_classes: int = 10):\n",
    "  model = model_function(pretrained=True)\n",
    "\n",
    "  # First step: freeze the block \n",
    "  # we don't want to retrain\n",
    "  for param in model.parameters():\n",
    "    param.requires_grad = False\n",
    "\n",
    "  # Second step: replace the fully connected layer\n",
    "  # to match the number of classes\n",
    "  in_features = model.fc.in_features\n",
    "  model.fc = nn.Linear(in_features, n_classes)\n",
    "\n",
    "  return model\n"
   ]
  },
  {
   "cell_type": "code",
   "execution_count": 14,
   "metadata": {
    "colab": {
     "base_uri": "https://localhost:8080/"
    },
    "id": "uSL0xIaXqMP6",
    "outputId": "4e961f8e-c5ea-4484-8ab2-301fc43f284c"
   },
   "outputs": [
    {
     "name": "stdout",
     "output_type": "stream",
     "text": [
      "Files already downloaded and verified\n",
      "Files already downloaded and verified\n"
     ]
    }
   ],
   "source": [
    "# https://pytorch.org/vision/stable/models.html indicates shape recommandation \n",
    "# as well as the normalization that needs to be used when considering \n",
    "# the pretrained model\n",
    "\n",
    "image_net_size = (224, 224)\n",
    "mean_image_net = (0.485, 0.456, 0.406)\n",
    "std_image_net = (0.229, 0.224, 0.225)\n",
    "\n",
    "transform_train_set = transforms.Compose([\n",
    "    transforms.Resize(image_net_size),\n",
    "    transforms.ToTensor(),\n",
    "    transforms.Normalize(mean_image_net, std_image_net),\n",
    "])\n",
    "\n",
    "transform_test_set = transforms.Compose([\n",
    "    transforms.Resize(image_net_size),\n",
    "    transforms.ToTensor(),\n",
    "    transforms.Normalize(mean_image_net, std_image_net),\n",
    "])\n",
    "\n",
    "cifar_10_dataset = CIFAR10Dataset(\n",
    "    file_location=\"./\",\n",
    "    transform_train=transform_train_set,\n",
    "    transform_test=transform_test_set,\n",
    ")"
   ]
  },
  {
   "cell_type": "markdown",
   "metadata": {
    "id": "Tw7IYr48FrEF"
   },
   "source": [
    "First, let's load the ResNet19 pretrained model"
   ]
  },
  {
   "cell_type": "code",
   "execution_count": 15,
   "metadata": {
    "colab": {
     "base_uri": "https://localhost:8080/",
     "height": 67,
     "referenced_widgets": [
      "6af19546e32f40c38976813fc36779af",
      "ba5504d59e6b46fcbe8f81e619008527",
      "0cf448f4552e46e1ae003ada87883ac2",
      "229d32b14b7742e7ba775f6b657b7c76",
      "1986a6293a634f07a00c0ea13e7f4042",
      "dbda265b1d334146b2eeb713858efdc1",
      "1b827a1a24ed43c2b7ea7a49f2a8b698",
      "3719a08dd1324b03b79fdded811df6f4",
      "1b4d49c699c54d218513de9f3d721ab5",
      "99693b9fd919421580ad32e1e48227eb",
      "a9d7c6a395fa4a608ab925da93194025"
     ]
    },
    "id": "abTEgMnlknja",
    "outputId": "d3df10fb-b283-4e63-a2e0-f65bdce81339"
   },
   "outputs": [
    {
     "name": "stderr",
     "output_type": "stream",
     "text": [
      "Downloading: \"https://download.pytorch.org/models/resnet18-f37072fd.pth\" to /root/.cache/torch/hub/checkpoints/resnet18-f37072fd.pth\n"
     ]
    },
    {
     "data": {
      "application/vnd.jupyter.widget-view+json": {
       "model_id": "6af19546e32f40c38976813fc36779af",
       "version_major": 2,
       "version_minor": 0
      },
      "text/plain": [
       "  0%|          | 0.00/44.7M [00:00<?, ?B/s]"
      ]
     },
     "metadata": {},
     "output_type": "display_data"
    }
   ],
   "source": [
    "resnet18_pretrained = load_pretrained_model(models.resnet18)\n",
    "resnet18_pretrained = resnet18_pretrained.to(device)\n",
    "classif_pipeline_pretrained = ClassificationPipeline(\n",
    "    resnet18_pretrained, cifar_10_dataset\n",
    ")"
   ]
  },
  {
   "cell_type": "code",
   "execution_count": 16,
   "metadata": {
    "colab": {
     "base_uri": "https://localhost:8080/"
    },
    "id": "YptVx4_Tkyd0",
    "outputId": "eabaabf0-1d11-4e77-ab30-0f2d980c0735"
   },
   "outputs": [
    {
     "name": "stdout",
     "output_type": "stream",
     "text": [
      "------ Epoch 1 / 20 ------\n"
     ]
    },
    {
     "name": "stderr",
     "output_type": "stream",
     "text": [
      "100%|██████████| 10/10 [00:00<00:00, 27.23it/s]\n",
      "100%|██████████| 1000/1000 [00:29<00:00, 33.93it/s]\n"
     ]
    },
    {
     "name": "stdout",
     "output_type": "stream",
     "text": [
      "------ Epoch 2 / 20 ------\n"
     ]
    },
    {
     "name": "stderr",
     "output_type": "stream",
     "text": [
      "100%|██████████| 10/10 [00:00<00:00, 33.30it/s]\n",
      "100%|██████████| 1000/1000 [00:29<00:00, 34.46it/s]\n"
     ]
    },
    {
     "name": "stdout",
     "output_type": "stream",
     "text": [
      "------ Epoch 3 / 20 ------\n"
     ]
    },
    {
     "name": "stderr",
     "output_type": "stream",
     "text": [
      "100%|██████████| 10/10 [00:00<00:00, 33.89it/s]\n",
      "100%|██████████| 1000/1000 [00:28<00:00, 35.05it/s]\n"
     ]
    },
    {
     "name": "stdout",
     "output_type": "stream",
     "text": [
      "------ Epoch 4 / 20 ------\n"
     ]
    },
    {
     "name": "stderr",
     "output_type": "stream",
     "text": [
      "100%|██████████| 10/10 [00:00<00:00, 34.42it/s]\n",
      "100%|██████████| 1000/1000 [00:29<00:00, 34.17it/s]\n"
     ]
    },
    {
     "name": "stdout",
     "output_type": "stream",
     "text": [
      "------ Epoch 5 / 20 ------\n"
     ]
    },
    {
     "name": "stderr",
     "output_type": "stream",
     "text": [
      "100%|██████████| 10/10 [00:00<00:00, 32.88it/s]\n",
      "100%|██████████| 1000/1000 [00:29<00:00, 34.06it/s]\n"
     ]
    },
    {
     "name": "stdout",
     "output_type": "stream",
     "text": [
      "------ Epoch 6 / 20 ------\n"
     ]
    },
    {
     "name": "stderr",
     "output_type": "stream",
     "text": [
      "100%|██████████| 10/10 [00:00<00:00, 32.93it/s]\n",
      "100%|██████████| 1000/1000 [00:35<00:00, 28.33it/s]\n"
     ]
    },
    {
     "name": "stdout",
     "output_type": "stream",
     "text": [
      "------ Epoch 7 / 20 ------\n"
     ]
    },
    {
     "name": "stderr",
     "output_type": "stream",
     "text": [
      "100%|██████████| 10/10 [00:00<00:00, 34.34it/s]\n",
      "100%|██████████| 1000/1000 [00:29<00:00, 33.96it/s]\n"
     ]
    },
    {
     "name": "stdout",
     "output_type": "stream",
     "text": [
      "------ Epoch 8 / 20 ------\n"
     ]
    },
    {
     "name": "stderr",
     "output_type": "stream",
     "text": [
      "100%|██████████| 10/10 [00:00<00:00, 33.79it/s]\n",
      "100%|██████████| 1000/1000 [00:29<00:00, 34.25it/s]\n"
     ]
    },
    {
     "name": "stdout",
     "output_type": "stream",
     "text": [
      "------ Epoch 9 / 20 ------\n"
     ]
    },
    {
     "name": "stderr",
     "output_type": "stream",
     "text": [
      "100%|██████████| 10/10 [00:00<00:00, 32.44it/s]\n",
      "100%|██████████| 1000/1000 [00:30<00:00, 33.10it/s]\n"
     ]
    },
    {
     "name": "stdout",
     "output_type": "stream",
     "text": [
      "------ Epoch 10 / 20 ------\n"
     ]
    },
    {
     "name": "stderr",
     "output_type": "stream",
     "text": [
      "100%|██████████| 10/10 [00:00<00:00, 33.93it/s]\n",
      "100%|██████████| 1000/1000 [00:29<00:00, 34.22it/s]\n"
     ]
    },
    {
     "name": "stdout",
     "output_type": "stream",
     "text": [
      "------ Epoch 11 / 20 ------\n"
     ]
    },
    {
     "name": "stderr",
     "output_type": "stream",
     "text": [
      "100%|██████████| 10/10 [00:00<00:00, 34.43it/s]\n",
      "100%|██████████| 1000/1000 [00:30<00:00, 32.73it/s]\n"
     ]
    },
    {
     "name": "stdout",
     "output_type": "stream",
     "text": [
      "------ Epoch 12 / 20 ------\n"
     ]
    },
    {
     "name": "stderr",
     "output_type": "stream",
     "text": [
      "100%|██████████| 10/10 [00:00<00:00, 32.49it/s]\n",
      "100%|██████████| 1000/1000 [00:29<00:00, 33.93it/s]\n"
     ]
    },
    {
     "name": "stdout",
     "output_type": "stream",
     "text": [
      "------ Epoch 13 / 20 ------\n"
     ]
    },
    {
     "name": "stderr",
     "output_type": "stream",
     "text": [
      "100%|██████████| 10/10 [00:00<00:00, 33.76it/s]\n",
      "100%|██████████| 1000/1000 [00:29<00:00, 33.98it/s]\n"
     ]
    },
    {
     "name": "stdout",
     "output_type": "stream",
     "text": [
      "------ Epoch 14 / 20 ------\n"
     ]
    },
    {
     "name": "stderr",
     "output_type": "stream",
     "text": [
      "100%|██████████| 10/10 [00:00<00:00, 33.00it/s]\n",
      "100%|██████████| 1000/1000 [00:29<00:00, 34.22it/s]\n"
     ]
    },
    {
     "name": "stdout",
     "output_type": "stream",
     "text": [
      "------ Epoch 15 / 20 ------\n"
     ]
    },
    {
     "name": "stderr",
     "output_type": "stream",
     "text": [
      "100%|██████████| 10/10 [00:00<00:00, 34.01it/s]\n",
      "100%|██████████| 1000/1000 [00:29<00:00, 34.06it/s]\n"
     ]
    },
    {
     "name": "stdout",
     "output_type": "stream",
     "text": [
      "------ Epoch 16 / 20 ------\n"
     ]
    },
    {
     "name": "stderr",
     "output_type": "stream",
     "text": [
      "100%|██████████| 10/10 [00:00<00:00, 33.55it/s]\n",
      "100%|██████████| 1000/1000 [00:29<00:00, 34.02it/s]\n"
     ]
    },
    {
     "name": "stdout",
     "output_type": "stream",
     "text": [
      "------ Epoch 17 / 20 ------\n"
     ]
    },
    {
     "name": "stderr",
     "output_type": "stream",
     "text": [
      "100%|██████████| 10/10 [00:00<00:00, 32.83it/s]\n",
      "100%|██████████| 1000/1000 [00:29<00:00, 33.92it/s]\n"
     ]
    },
    {
     "name": "stdout",
     "output_type": "stream",
     "text": [
      "------ Epoch 18 / 20 ------\n"
     ]
    },
    {
     "name": "stderr",
     "output_type": "stream",
     "text": [
      "100%|██████████| 10/10 [00:00<00:00, 33.27it/s]\n",
      "100%|██████████| 1000/1000 [00:29<00:00, 34.06it/s]\n"
     ]
    },
    {
     "name": "stdout",
     "output_type": "stream",
     "text": [
      "------ Epoch 19 / 20 ------\n"
     ]
    },
    {
     "name": "stderr",
     "output_type": "stream",
     "text": [
      "100%|██████████| 10/10 [00:00<00:00, 33.40it/s]\n",
      "100%|██████████| 1000/1000 [00:29<00:00, 33.82it/s]\n"
     ]
    },
    {
     "name": "stdout",
     "output_type": "stream",
     "text": [
      "------ Epoch 20 / 20 ------\n"
     ]
    },
    {
     "name": "stderr",
     "output_type": "stream",
     "text": [
      "100%|██████████| 10/10 [00:00<00:00, 33.36it/s]\n",
      "100%|██████████| 1000/1000 [00:29<00:00, 34.21it/s]\n"
     ]
    }
   ],
   "source": [
    "(train_accuracies_pretrained,\n",
    " test_accuracies_pretrained,\n",
    " train_losses_pretrained,\n",
    " test_losses_pretrained) = classif_pipeline_pretrained.train(\n",
    "    learning_rate=0.005, momentum=0.85, n_epochs=20\n",
    "  )"
   ]
  },
  {
   "cell_type": "code",
   "execution_count": 17,
   "metadata": {
    "colab": {
     "base_uri": "https://localhost:8080/",
     "height": 656
    },
    "id": "R_-Ek5MnmiKQ",
    "outputId": "5ee39142-b7ea-4d14-c9e0-e4d840611fc6"
   },
   "outputs": [
    {
     "name": "stdout",
     "output_type": "stream",
     "text": [
      "Final training accuracy: 100.0\n",
      "Final test accuracy: 51.2\n"
     ]
    },
    {
     "data": {
      "image/png": "[encoded data removed]",
      "text/plain": [
       "<Figure size 1152x720 with 2 Axes>"
      ]
     },
     "metadata": {
      "needs_background": "light"
     },
     "output_type": "display_data"
    }
   ],
   "source": [
    "plot_model_results(\n",
    "    train_accuracies_pretrained,\n",
    "    test_accuracies_pretrained,\n",
    "    train_losses_pretrained,\n",
    "    test_losses_pretrained\n",
    ")"
   ]
  },
  {
   "cell_type": "markdown",
   "metadata": {
    "id": "VjHmSBpay_AU"
   },
   "source": [
    "| Model | Number of  epochs  | Train accuracy | Test accuracy |\n",
    "|------|------|------|------|\n",
    "|   RestNet18 Pretrained  | 20 | 100.0% | 51.2% |\n",
    "\n",
    "We can notice a improvement in terms of Test accuracy (~multiplied by 2 compared to the training from scratch)."
   ]
  },
  {
   "cell_type": "markdown",
   "metadata": {
    "id": "-svmb56SjGKp"
   },
   "source": [
    "# Incorporating priors\n",
    "Geometrical priors are appealing for image classification tasks. \n",
    "A color image $x$ can be seen as a function: $\\mathbb{S}\\rightarrow\\mathbb{R}^3$, where $\\mathbb{S} \\subset \\mathbb{R}^2$ is the image support.\n",
    "Let us consider transformations $\\mathcal{T}$ of possible inputs $x$. For instance, if an image had infinite support, a translation $\\mathcal{T}_a$ of an image $x$ by a shift $a$ would lead to a new infinite-support image $\\mathcal{T}_a(x)$, described at each pixel $u$ by :\n",
    "\n",
    "$$\\forall u, \\mathcal{T}_a(x)(u)=x(u-a)\\,.$$\n",
    "\n",
    "__Question 5 (1.5 points) :__ Explain the issues when dealing with translations, rotations, scaling effects, color changes on $32\\times32$ images. Propose several ideas to tackle them."
   ]
  },
  {
   "cell_type": "markdown",
   "metadata": {
    "id": "9YJCU9PgjGKp"
   },
   "source": [
    "Geometric transformations are usually performs on image whose size is big enough to prevent loosing the coherence of the image. Here, in the CIFAR10 dataset, we are dealing with $32\\times32$ images, which can lead to some problem when performing geometric transformations. Indeed, for example, a translation of a too high number of pixels could result in an image where the main object that need to be classified is cut in half. Therefore, to tackle this issue, we should be careful to perform translation of only a few pixels. The same issue arises when it comes to rotation. Indeed, when performing a rotation, we then need to crop the image (to remove for example the black boarder induced by some padding). For rotation with parameter around $\\frac{\\pi}{4}$, this results to a lot of cropping, thus we loose an important part of the image. We thus may have to limit us to small rotations."
   ]
  },
  {
   "cell_type": "markdown",
   "metadata": {
    "id": "CxMnR6QNjGKp"
   },
   "source": [
    "## Data augmentations"
   ]
  },
  {
   "cell_type": "markdown",
   "metadata": {
    "id": "vvohBWdmjGKp"
   },
   "source": [
    "__Question 6 (3 points) :__ Propose a set of geometric transformations beyond translation, and incorporate them in your training pipeline. Train the model of the __Question 3__ with them and report the accuracies.\n",
    "You can use tools from https://pytorch.org/vision/stable/transforms.html "
   ]
  },
  {
   "cell_type": "code",
   "execution_count": 21,
   "metadata": {
    "colab": {
     "base_uri": "https://localhost:8080/"
    },
    "collapsed": true,
    "id": "PXA1-KP2jGKp",
    "outputId": "61a8a897-b642-4ff0-c51f-e8072076c5fa"
   },
   "outputs": [
    {
     "name": "stdout",
     "output_type": "stream",
     "text": [
      "Files already downloaded and verified\n",
      "Files already downloaded and verified\n"
     ]
    }
   ],
   "source": [
    "# Build the datasets\n",
    "# and apply geometric transformation to the training set\n",
    "\n",
    "min_degree = 0\n",
    "max_degree = 25\n",
    "\n",
    "transform_train_set = transforms.Compose([\n",
    "    transforms.RandomHorizontalFlip(0.6),\n",
    "    transforms.RandomVerticalFlip(0.6),\n",
    "    transforms.RandomCrop((32, 32)),\n",
    "    transforms.ColorJitter(brightness=0.2, contrast=0.03, saturation=0.03, hue=0.03),\n",
    "    transforms.RandomAffine(  # handles both rotation and translation\n",
    "        degrees=(min_degree, max_degree),\n",
    "        translate=(0.0, 0.1),\n",
    "    ),\n",
    "    transforms.ToTensor(),\n",
    "    transforms.Normalize(train_mean, train_std),\n",
    "])\n",
    "\n",
    "transform_test_set = transforms.Compose([\n",
    "    transforms.ToTensor(),\n",
    "    transforms.Normalize(train_mean, train_std),\n",
    "])\n",
    "\n",
    "cifar_10_dataset_augmented = CIFAR10Dataset(\n",
    "    file_location=\"./\",\n",
    "    transform_train=transform_train_set,\n",
    "    transform_test=transform_test_set,\n",
    ")"
   ]
  },
  {
   "cell_type": "code",
   "execution_count": 24,
   "metadata": {
    "colab": {
     "base_uri": "https://localhost:8080/"
    },
    "id": "W5RYLMCfuit8",
    "outputId": "0f403d7a-052f-49e6-8f97-e91dc56f072f"
   },
   "outputs": [
    {
     "name": "stdout",
     "output_type": "stream",
     "text": [
      "------ Epoch 1 / 20 ------\n"
     ]
    },
    {
     "name": "stderr",
     "output_type": "stream",
     "text": [
      "100%|██████████| 10/10 [00:00<00:00, 22.11it/s]\n",
      "100%|██████████| 1000/1000 [00:09<00:00, 101.46it/s]\n"
     ]
    },
    {
     "name": "stdout",
     "output_type": "stream",
     "text": [
      "------ Epoch 2 / 20 ------\n"
     ]
    },
    {
     "name": "stderr",
     "output_type": "stream",
     "text": [
      "100%|██████████| 10/10 [00:00<00:00, 27.26it/s]\n",
      "100%|██████████| 1000/1000 [00:09<00:00, 101.54it/s]\n"
     ]
    },
    {
     "name": "stdout",
     "output_type": "stream",
     "text": [
      "------ Epoch 3 / 20 ------\n"
     ]
    },
    {
     "name": "stderr",
     "output_type": "stream",
     "text": [
      "100%|██████████| 10/10 [00:00<00:00, 27.86it/s]\n",
      "100%|██████████| 1000/1000 [00:09<00:00, 100.75it/s]\n"
     ]
    },
    {
     "name": "stdout",
     "output_type": "stream",
     "text": [
      "------ Epoch 4 / 20 ------\n"
     ]
    },
    {
     "name": "stderr",
     "output_type": "stream",
     "text": [
      "100%|██████████| 10/10 [00:00<00:00, 27.54it/s]\n",
      "100%|██████████| 1000/1000 [00:09<00:00, 100.98it/s]\n"
     ]
    },
    {
     "name": "stdout",
     "output_type": "stream",
     "text": [
      "------ Epoch 5 / 20 ------\n"
     ]
    },
    {
     "name": "stderr",
     "output_type": "stream",
     "text": [
      "100%|██████████| 10/10 [00:00<00:00, 28.05it/s]\n",
      "100%|██████████| 1000/1000 [00:09<00:00, 101.24it/s]\n"
     ]
    },
    {
     "name": "stdout",
     "output_type": "stream",
     "text": [
      "------ Epoch 6 / 20 ------\n"
     ]
    },
    {
     "name": "stderr",
     "output_type": "stream",
     "text": [
      "100%|██████████| 10/10 [00:00<00:00, 28.58it/s]\n",
      "100%|██████████| 1000/1000 [00:09<00:00, 100.26it/s]\n"
     ]
    },
    {
     "name": "stdout",
     "output_type": "stream",
     "text": [
      "------ Epoch 7 / 20 ------\n"
     ]
    },
    {
     "name": "stderr",
     "output_type": "stream",
     "text": [
      "100%|██████████| 10/10 [00:00<00:00, 28.06it/s]\n",
      "100%|██████████| 1000/1000 [00:10<00:00, 98.95it/s]\n"
     ]
    },
    {
     "name": "stdout",
     "output_type": "stream",
     "text": [
      "------ Epoch 8 / 20 ------\n"
     ]
    },
    {
     "name": "stderr",
     "output_type": "stream",
     "text": [
      "100%|██████████| 10/10 [00:00<00:00, 27.61it/s]\n",
      "100%|██████████| 1000/1000 [00:09<00:00, 100.20it/s]\n"
     ]
    },
    {
     "name": "stdout",
     "output_type": "stream",
     "text": [
      "------ Epoch 9 / 20 ------\n"
     ]
    },
    {
     "name": "stderr",
     "output_type": "stream",
     "text": [
      "100%|██████████| 10/10 [00:00<00:00, 27.57it/s]\n",
      "100%|██████████| 1000/1000 [00:09<00:00, 100.72it/s]\n"
     ]
    },
    {
     "name": "stdout",
     "output_type": "stream",
     "text": [
      "------ Epoch 10 / 20 ------\n"
     ]
    },
    {
     "name": "stderr",
     "output_type": "stream",
     "text": [
      "100%|██████████| 10/10 [00:00<00:00, 28.20it/s]\n",
      "100%|██████████| 1000/1000 [00:09<00:00, 100.25it/s]\n"
     ]
    },
    {
     "name": "stdout",
     "output_type": "stream",
     "text": [
      "------ Epoch 11 / 20 ------\n"
     ]
    },
    {
     "name": "stderr",
     "output_type": "stream",
     "text": [
      "100%|██████████| 10/10 [00:00<00:00, 28.10it/s]\n",
      "100%|██████████| 1000/1000 [00:10<00:00, 99.63it/s] \n"
     ]
    },
    {
     "name": "stdout",
     "output_type": "stream",
     "text": [
      "------ Epoch 12 / 20 ------\n"
     ]
    },
    {
     "name": "stderr",
     "output_type": "stream",
     "text": [
      "100%|██████████| 10/10 [00:00<00:00, 27.05it/s]\n",
      "100%|██████████| 1000/1000 [00:09<00:00, 100.14it/s]\n"
     ]
    },
    {
     "name": "stdout",
     "output_type": "stream",
     "text": [
      "------ Epoch 13 / 20 ------\n"
     ]
    },
    {
     "name": "stderr",
     "output_type": "stream",
     "text": [
      "100%|██████████| 10/10 [00:00<00:00, 27.18it/s]\n",
      "100%|██████████| 1000/1000 [00:10<00:00, 99.94it/s]\n"
     ]
    },
    {
     "name": "stdout",
     "output_type": "stream",
     "text": [
      "------ Epoch 14 / 20 ------\n"
     ]
    },
    {
     "name": "stderr",
     "output_type": "stream",
     "text": [
      "100%|██████████| 10/10 [00:00<00:00, 27.00it/s]\n",
      "100%|██████████| 1000/1000 [00:10<00:00, 99.60it/s]\n"
     ]
    },
    {
     "name": "stdout",
     "output_type": "stream",
     "text": [
      "------ Epoch 15 / 20 ------\n"
     ]
    },
    {
     "name": "stderr",
     "output_type": "stream",
     "text": [
      "100%|██████████| 10/10 [00:00<00:00, 27.46it/s]\n",
      "100%|██████████| 1000/1000 [00:09<00:00, 100.53it/s]\n"
     ]
    },
    {
     "name": "stdout",
     "output_type": "stream",
     "text": [
      "------ Epoch 16 / 20 ------\n"
     ]
    },
    {
     "name": "stderr",
     "output_type": "stream",
     "text": [
      "100%|██████████| 10/10 [00:00<00:00, 27.96it/s]\n",
      "100%|██████████| 1000/1000 [00:10<00:00, 98.96it/s]\n"
     ]
    },
    {
     "name": "stdout",
     "output_type": "stream",
     "text": [
      "------ Epoch 17 / 20 ------\n"
     ]
    },
    {
     "name": "stderr",
     "output_type": "stream",
     "text": [
      "100%|██████████| 10/10 [00:00<00:00, 26.93it/s]\n",
      "100%|██████████| 1000/1000 [00:10<00:00, 98.71it/s]\n"
     ]
    },
    {
     "name": "stdout",
     "output_type": "stream",
     "text": [
      "------ Epoch 18 / 20 ------\n"
     ]
    },
    {
     "name": "stderr",
     "output_type": "stream",
     "text": [
      "100%|██████████| 10/10 [00:00<00:00, 27.17it/s]\n",
      "100%|██████████| 1000/1000 [00:10<00:00, 99.90it/s]\n"
     ]
    },
    {
     "name": "stdout",
     "output_type": "stream",
     "text": [
      "------ Epoch 19 / 20 ------\n"
     ]
    },
    {
     "name": "stderr",
     "output_type": "stream",
     "text": [
      "100%|██████████| 10/10 [00:00<00:00, 27.30it/s]\n",
      "100%|██████████| 1000/1000 [00:09<00:00, 100.28it/s]\n"
     ]
    },
    {
     "name": "stdout",
     "output_type": "stream",
     "text": [
      "------ Epoch 20 / 20 ------\n"
     ]
    },
    {
     "name": "stderr",
     "output_type": "stream",
     "text": [
      "100%|██████████| 10/10 [00:00<00:00, 27.20it/s]\n",
      "100%|██████████| 1000/1000 [00:10<00:00, 99.92it/s] \n"
     ]
    }
   ],
   "source": [
    "# Train the ResNet18 architecture with the augmented\n",
    "# dataset\n",
    "\n",
    "res_net_18_augmented = ResNet18()\n",
    "res_net_18_augmented = res_net_18_augmented.to(device)\n",
    "classif_pipeline_augmented = ClassificationPipeline(\n",
    "    res_net_18_augmented,\n",
    "     cifar_10_dataset_augmented,\n",
    ")\n",
    "\n",
    "(train_accuracies_augmented,\n",
    " test_accuracies_augmented,\n",
    " train_losses_augmented,\n",
    " test_losses_augmented) = classif_pipeline_augmented.train(\n",
    "    learning_rate=0.005, momentum=0.85, n_epochs=20\n",
    "  )"
   ]
  },
  {
   "cell_type": "code",
   "execution_count": 26,
   "metadata": {
    "colab": {
     "base_uri": "https://localhost:8080/",
     "height": 656
    },
    "id": "EAwxcRgGuu2k",
    "outputId": "47d4ed9e-c3b2-44e5-a450-5817ac6bab10"
   },
   "outputs": [
    {
     "name": "stdout",
     "output_type": "stream",
     "text": [
      "Final training accuracy: 42.0\n",
      "Final test accuracy: 20.04\n"
     ]
    },
    {
     "data": {
      "image/png": "[encoded data removed]",
      "text/plain": [
       "<Figure size 1152x720 with 2 Axes>"
      ]
     },
     "metadata": {
      "needs_background": "light"
     },
     "output_type": "display_data"
    }
   ],
   "source": [
    "plot_model_results(\n",
    "    train_accuracies_augmented,\n",
    "    test_accuracies_augmented,\n",
    "    train_losses_augmented,\n",
    "    test_losses_augmented\n",
    ")"
   ]
  },
  {
   "cell_type": "markdown",
   "metadata": {
    "id": "3A1hcm8gwDtI"
   },
   "source": [
    "| Model | Number of  epochs  | Train accuracy | Test accuracy |\n",
    "|------|------|------|------|\n",
    "|   RestNet18 Augmentation  | 20 | 42.0% | 20.04% |\n",
    "|   RestNet18 Augmentation  | 100 | 96% | 25.18% |"
   ]
  },
  {
   "cell_type": "markdown",
   "metadata": {
    "id": "1I81WSECjGKq"
   },
   "source": [
    "# Conclusions"
   ]
  },
  {
   "cell_type": "markdown",
   "metadata": {
    "id": "xjQRkH-kjGKq"
   },
   "source": [
    "__Question 7 (5 points) :__ Write a short report explaining the pros and the cons of each method you implemented. 25% of the grade of this project will correspond to this question, thus, it should be done carefully. In particular, please add a plot that will summarize all your numerical results."
   ]
  },
  {
   "cell_type": "markdown",
   "metadata": {
    "id": "Y0vQdcvv2q1K"
   },
   "source": [
    "In this practical session, we have been dealing with small datasets to solve a classification task. More precisely, we have been training different architectur with a training set which is a subset of 100 labeled examples of the CIFAR10 dataset. We carried out different approaches to train classification neural networks with such dataset, and analyzed the difference in terms of perforrmance\n",
    "\n",
    "___Basline: ResNet18___\n",
    "\n",
    "First, we have been using a convolutional networks with residual connection called ResNet18. It is a classic architecture that is originally trained on ImageNet and provide good performance. However, we were here interested in looking at the performance of such architecture by training it from scrath (i.e we didn't keep the weights of such arhictecture trained on ImageNet), using only the 100 examples in $\\mathcal{X}_{\\text{train}}$.\n",
    "We have been training it using the SGD optimize (learning rate 0.005, momentum 0.85) for 20 epochs, and tested it on the 1000 examples from the CIFAR10 test set. We also note that we normalized the dataset, by computing the mean and standard deviation on the 100 training samples. We got a train accuracy of 99% and a test accuracy of 20.41%. The test accuracy on the full dataset has been found on https://github.com/kuangliu/pytorch-cifar, and is of 93.02%. We can thus notice that the main cons of this method is the massive overfit it leads to, which is namely due to the high number of parameters of such architectures that require more examples to be able to have correct generalization capacities. Nevertheless, training such network didn't require a lot of computational time as we only used 100 examples and was a good start to better understand the effect of using small datasets.\n",
    "\n",
    "__Transfer Learning__\n",
    "\n",
    "In a second step, we tried transfert learning, i.e we took the ResNet18 architecture pretrained on ImageNet, and we froze the convolutionnal part and retrained the last fully connected layer using our 100 labels examples of CIFAR10. We have been using the same training procedure, i.e SGD (same hyperparameters) during 20 epochs. Notice that for this training, we didn't use the mean and standard deviation computed on the training set, but instead, we have been using the mean and standard deviation of the ImageNet training set used to pretrain the model. This seems necessary to take full advantage of the trained convolutionnal network that have learnt to analyze images scaled with the training set of ImageNet. We got a training accuracy of 99.0% (so same as before), but a test accuracy of 50.38%. First, we should notice that we didn't reach such a good performance as the one given previously on the whole CIFAR10 dataset (93.02%). This can be due to the fact that ImageNet and CIFAR10 datasets don't have images of the same size / resolution, therefore a resize had to be performed, which blurred the imageand could potentially lead to poorer performance. Nevertheless, we notice the increase in test accuracy from 20.41% to 50.38%, which means that our network has better generalization capacities. This can be explained by the fact the the convolutionnal networks, trained on ImageNet, have already learnt to capture essential features for images (low levels features like edges, high levels features like shapes...). This features are general enough to be applicable to any image, hence the gain in terms of test accuracy.\n",
    "\n",
    "__Data Augmentation__\n",
    "\n",
    "Finally, I have been trying to train from scratch the ResNet18 architecture with the small datasets of 100 examples by adding a data augmentation step. First, we did a qualitative analysis of the potential issues of using geometric transformations on small images ($32 \\times 32$ images), like translation of many pixels or rotation with high angles, that coult result in a loss of informaiton in the image, and thus potentially a loss in the model's performance. We then trained the model with the same training setting as before, and got 42.0 of train accuracy and 20.04 of test accuracy. I have been using the following transform for the data augmentation:\n",
    "\n",
    "- Random horizontal flip (probaibility 0.6)\n",
    "- Random vertical flip (probaibility 0.6)\n",
    "- Random Cropping\n",
    "- Color Jittering\n",
    "- Random Affine transformation (combination of translation of maximum 10% of the size of the image ; and rotation with angle between 0 and 25 degrees)\n",
    "\n",
    "As in all previous training, the dataset has been normlized.\n",
    "We observed a drop in terms of training accuracy (52%), that can be explained by the fact that the network didn't see exactly yhe same images at each epoch, and thus was less able to exactly overfit and the 100 images. However, we got quite the same test accuracy as in the baseline (20.15%), from which we can deduced that we have started to solve the overfit issue, which was expected from the data augmentation step.\n",
    "Nevertheless, I have also tried to train the same network, with the same data augmentation steps, with more epochs (100), and we observe the same behavior as in the baseline (training accuracy of 96.0% and test accuracy of 25.18%), which means that the model still suffers from overfitting, and retraining such a big network from scratch with only 100 examples is not enough to get good generalization capacities, even we see a slight improvement (training accuracy decreased a bit and we gain some % in the test accuracy).\n",
    "\n",
    "\n",
    "__Summary__\n",
    "\n",
    "Below is given a summary of the results, as well as a corresponding plot.\n",
    "\n",
    "| Model | Number of  epochs  | Train accuracy | Test accuracy | Full Dataset Test accuracy |\n",
    "|------|------|------|------|------|\n",
    "|   RestNet18  | 20 | 100.0% | 21.5% | 93.02% |\n",
    "|   RestNet18 Pretrained  | 20 | 100.0% | 51.2% | XXX% |\n",
    "|   RestNet18 Augmentation  | 20 | 42.0% | 20.04% | XXX% |\n",
    "|   RestNet18 Augmentation  | 100 | 96.0% | 25.18% | XXX% |\n",
    "\n",
    "\n",
    "Therefore, from these different experiments, we saw that training neural networks with very small datasets can easily lead to overfit. However, weak supervision techniques, namely Transfer Learning which has been studied here, are a good way to go to when dealing with small datasets. Their success for example in image classificaiton comes from the possibility to re-use the universal features learnt by convolutional networks, and apply them to other datasets. Finally, a more \"hand crafted\" way to handle small dataset was to look at data augmentation by using different geometrical transformation. We noticed that for the same training settings, a slight decrease of the overfit, but globally, the results remains worse than the Transfer learning methods. In the bonus part, we will look at another weak supervision techniques, which will be using an auto encoder as an unsupervised way to learn features. "
   ]
  },
  {
   "cell_type": "code",
   "execution_count": 27,
   "metadata": {
    "colab": {
     "base_uri": "https://localhost:8080/",
     "height": 313
    },
    "id": "Y0hsU0x58kk-",
    "outputId": "15f31dd7-0ba1-4576-b2af-4c8229c27bce"
   },
   "outputs": [
    {
     "data": {
      "text/plain": [
       "Text(0.5, 1.0, 'Summary of the Weak supervision methods')"
      ]
     },
     "execution_count": 27,
     "metadata": {},
     "output_type": "execute_result"
    },
    {
     "data": {
      "image/png": "[encoded data removed]",
      "text/plain": [
       "<Figure size 432x288 with 1 Axes>"
      ]
     },
     "metadata": {
      "needs_background": "light"
     },
     "output_type": "display_data"
    }
   ],
   "source": [
    "# help from https://www.geeksforgeeks.org/bar-plot-in-matplotlib/\n",
    "# to customize the barplot\n",
    "\n",
    "training_accuracies = [100.0, 100.0, 42.0, 96.0]\n",
    "test_accuracies = [21.5, 51.2, 20.04, 25.18]\n",
    "full_dataset_test_accuracy = 93.02\n",
    "\n",
    "training_bars = np.arange(len(training_accuracies))\n",
    "testing_bars = [x + 0.25 for x in training_bars]\n",
    "\n",
    "plt.bar(training_bars, training_accuracies, color ='b', width = 0.25, edgecolor ='grey', label ='training accuracy')\n",
    "plt.bar(testing_bars, test_accuracies, color ='g', width = 0.25, edgecolor ='grey', label ='test accuracy')\n",
    "\n",
    "plt.xticks([r + 0.26 for r in range(len(training_accuracies))],\n",
    "        [\"ResNet18\", \"ResNet18 pretrained\", \"ResNet18 Augmentation\"])\n",
    "\n",
    "plt.axhline(y=full_dataset_test_accuracy,\n",
    "            color = 'r',\n",
    "            linestyle = '--',\n",
    "            label=\"test accuracy full dataset ResNet18\"\n",
    ")\n",
    "plt.xlabel(\"Weak supervision methods\")\n",
    "plt.ylabel(\"Accuracy\")\n",
    "plt.legend(bbox_to_anchor=(1.1, 1.05))\n",
    "plt.title(\"Summary of the Weak supervision methods\")"
   ]
  },
  {
   "cell_type": "markdown",
   "metadata": {
    "id": "8MIfKUUojGKq"
   },
   "source": [
    "# Weak supervision"
   ]
  },
  {
   "cell_type": "markdown",
   "metadata": {
    "id": "RldQ1hdPjGKq"
   },
   "source": [
    "__Bonus \\[open\\] question (up to 4 points) :__ Pick a weakly supervised method that will potentially use $\\mathcal{X}_{\\text{nolabel}}\\cup\\mathcal{X}_{\\text{train}}$ to train a model (a subset of $\\mathcal{X}_{\\text{nolabel}}$ is also fine). Evaluate it and report the accuracies. You should be careful in the choice of your method, in order to avoid heavy computational effort."
   ]
  },
  {
   "cell_type": "markdown",
   "metadata": {
    "id": "xk1FF9bqjGKq"
   },
   "source": [
    "For this question, I have chosen to build and train a convolutional auto-encoder trained on $\\mathcal{X}_{\\text{nolabel}}\\cup\\mathcal{X}_{\\text{train}}$. Then, the latent dimension will be used to train fully connected layers of a second network (i.e we will freeze the weights of the encoder and only train the fully connected layers) on $\\mathcal{X}_{\\text{train}}$ for the classification task "
   ]
  },
  {
   "cell_type": "code",
   "execution_count": 28,
   "metadata": {
    "id": "IvsIqyr7R_5U"
   },
   "outputs": [],
   "source": [
    "class Encoder(nn.Module):\n",
    "  def __init__(self):\n",
    "    super(Encoder, self).__init__()\n",
    "    self.convolutional_block = nn.Sequential(\n",
    "            nn.Conv2d(3, 32, kernel_size=(5, 5), stride=1),\n",
    "            nn.Conv2d(32, 64, kernel_size=(5, 5), stride=1),\n",
    "            nn.BatchNorm2d(64),\n",
    "            nn.MaxPool2d(kernel_size=2),\n",
    "            nn.ReLU(),\n",
    "\n",
    "            nn.Conv2d(64, 128, kernel_size=(5, 5), stride=1),\n",
    "            nn.BatchNorm2d(128),\n",
    "            nn.MaxPool2d(kernel_size=2),\n",
    "            nn.ReLU(),\n",
    "        )\n",
    "    \n",
    "    self.linear_block = nn.Sequential(\n",
    "            nn.Linear(2048, 512),\n",
    "            nn.ReLU(),\n",
    "            nn.Linear(512, 128),\n",
    "            nn.ReLU(),\n",
    "        )\n",
    "    \n",
    "  def forward(self, x):\n",
    "      x = self.convolutional_block(x)\n",
    "      x = nn.Flatten()(x)\n",
    "      x = self.linear_block(x)\n",
    "      return x\n",
    "\n",
    "\n",
    "class Decoder(nn.Module):\n",
    "  def __init__(self):\n",
    "    super(Decoder, self).__init__()\n",
    "    self.linear_block = nn.Sequential(\n",
    "            nn.Linear(128, 512),\n",
    "            nn.ReLU(),\n",
    "            nn.Linear(512, 2048),\n",
    "            nn.ReLU(),\n",
    "        )\n",
    "  \n",
    "    self.convolutional_block = nn.Sequential(\n",
    "            nn.ConvTranspose2d(128, 64, kernel_size=(5, 5), stride=1),\n",
    "            nn.BatchNorm2d(64),\n",
    "            nn.MaxPool2d(kernel_size=2),\n",
    "            nn.ReLU(),\n",
    "\n",
    "            nn.ConvTranspose2d(64, 32, kernel_size=(7, 7), stride=1),\n",
    "            nn.ConvTranspose2d(32, 3, kernel_size=(3, 3), stride=3, output_padding=2),\n",
    "            nn.ReLU(),\n",
    "\n",
    "        )\n",
    "    \n",
    "  def forward(self, x):\n",
    "      x = self.linear_block(x)\n",
    "      x = nn.Unflatten(dim=1, unflattened_size=(128, 4, 4))(x)\n",
    "      x = self.convolutional_block(x)\n",
    "      return x\n",
    "\n",
    "\n",
    "class AutoEncoder(nn.Module):\n",
    "  def __init__(self, encoder, decoder):\n",
    "    super(AutoEncoder, self).__init__()\n",
    "    self.encoder = encoder\n",
    "    self.decoder = decoder\n",
    "\n",
    "  def forward(self, x):\n",
    "    x = self.encoder(x)\n",
    "    x = self.decoder(x)\n",
    "    return x\n",
    "\n",
    "  def train(self, dataset, n_epochs, learning_rate, momentum):\n",
    "    # Define the optimizing objects\n",
    "        optimizer = torch.optim.SGD(\n",
    "            self.parameters(),\n",
    "            lr=learning_rate,\n",
    "            momentum=momentum,\n",
    "        )\n",
    "        learning_rate_scheduler = StepLR(\n",
    "            optimizer,\n",
    "            step_size=30,\n",
    "            gamma=0.1,\n",
    "        )\n",
    "        criterion = nn.MSELoss()\n",
    "        \n",
    "        train_losses = []\n",
    "        test_losses = []\n",
    "        \n",
    "        for i in range(n_epochs):\n",
    "            print(f\"------ Epoch {i+1} / {n_epochs} ------\")\n",
    "            train_accuracy = 0\n",
    "            train_loss = 0\n",
    "            test_accuracy = 0\n",
    "            test_loss = 0\n",
    "            n_examples = 0\n",
    "            \n",
    "            for images, _ in tqdm(iter(dataset.train_loader)):\n",
    "                # Send to GPU if available\n",
    "                images = images.to(device)\n",
    "\n",
    "                # Add the current number of examples in the batch\n",
    "                n_examples += images.shape[0]\n",
    "                \n",
    "                # One training step\n",
    "                optimizer.zero_grad()\n",
    "                reconstruction = self(images)\n",
    "                loss = criterion(reconstruction, images)\n",
    "                loss.backward()\n",
    "                optimizer.step()\n",
    "              \n",
    "                train_loss += loss\n",
    "\n",
    "            for images, _ in tqdm(iter(dataset.train_loader_no_label)):\n",
    "                # Send to GPU if available\n",
    "                images = images.to(device)\n",
    "\n",
    "                # Add the current number of examples in the batch\n",
    "                n_examples += images.shape[0]\n",
    "                \n",
    "                # One training step\n",
    "                optimizer.zero_grad()\n",
    "                reconstruction = self(images)\n",
    "                loss = criterion(reconstruction, images)\n",
    "                loss.backward()\n",
    "                optimizer.step()\n",
    "              \n",
    "                train_loss += loss\n",
    "                \n",
    "            # Run on test\n",
    "            n_examples_test = 0\n",
    "            for test_images, _ in tqdm(iter(dataset.test_loader)):\n",
    "                test_images = test_images.to(device)\n",
    "                n_examples_test += test_images.shape[0]\n",
    "                with torch.no_grad():\n",
    "                    reconstruction_test = self(test_images)\n",
    "                    loss = criterion(reconstruction_test, test_images)\n",
    "                    test_loss += loss\n",
    "                    \n",
    "            # End of epoch, save losses\n",
    "            train_losses.append(train_loss.cpu().detach() / n_examples)\n",
    "            test_losses.append(test_loss.cpu() / n_examples_test)\n",
    "            \n",
    "        return train_losses, test_losses\n"
   ]
  },
  {
   "cell_type": "code",
   "execution_count": 29,
   "metadata": {
    "id": "9-L-sLuSTpWY"
   },
   "outputs": [],
   "source": [
    "encoder = Encoder().to(device)\n",
    "decoder = Decoder().to(device)\n",
    "\n",
    "auto_encoder = AutoEncoder(encoder, decoder)"
   ]
  },
  {
   "cell_type": "code",
   "execution_count": 30,
   "metadata": {
    "colab": {
     "base_uri": "https://localhost:8080/"
    },
    "id": "CRWvsb3hesxa",
    "outputId": "9b7053d4-01ab-41a2-9f03-79811c0eb00f"
   },
   "outputs": [
    {
     "name": "stdout",
     "output_type": "stream",
     "text": [
      "Files already downloaded and verified\n",
      "Files already downloaded and verified\n",
      "------ Epoch 1 / 20 ------\n"
     ]
    },
    {
     "name": "stderr",
     "output_type": "stream",
     "text": [
      "100%|██████████| 10/10 [00:00<00:00, 36.93it/s]\n",
      "100%|██████████| 2000/2000 [00:42<00:00, 47.28it/s]\n",
      "100%|██████████| 1000/1000 [00:06<00:00, 145.46it/s]\n"
     ]
    },
    {
     "name": "stdout",
     "output_type": "stream",
     "text": [
      "------ Epoch 2 / 20 ------\n"
     ]
    },
    {
     "name": "stderr",
     "output_type": "stream",
     "text": [
      "100%|██████████| 10/10 [00:00<00:00, 47.26it/s]\n",
      "100%|██████████| 2000/2000 [00:42<00:00, 47.43it/s]\n",
      "100%|██████████| 1000/1000 [00:06<00:00, 147.53it/s]\n"
     ]
    },
    {
     "name": "stdout",
     "output_type": "stream",
     "text": [
      "------ Epoch 3 / 20 ------\n"
     ]
    },
    {
     "name": "stderr",
     "output_type": "stream",
     "text": [
      "100%|██████████| 10/10 [00:00<00:00, 47.48it/s]\n",
      "100%|██████████| 2000/2000 [00:42<00:00, 47.21it/s]\n",
      "100%|██████████| 1000/1000 [00:06<00:00, 150.30it/s]\n"
     ]
    },
    {
     "name": "stdout",
     "output_type": "stream",
     "text": [
      "------ Epoch 4 / 20 ------\n"
     ]
    },
    {
     "name": "stderr",
     "output_type": "stream",
     "text": [
      "100%|██████████| 10/10 [00:00<00:00, 47.57it/s]\n",
      "100%|██████████| 2000/2000 [00:42<00:00, 47.31it/s]\n",
      "100%|██████████| 1000/1000 [00:06<00:00, 145.95it/s]\n"
     ]
    },
    {
     "name": "stdout",
     "output_type": "stream",
     "text": [
      "------ Epoch 5 / 20 ------\n"
     ]
    },
    {
     "name": "stderr",
     "output_type": "stream",
     "text": [
      "100%|██████████| 10/10 [00:00<00:00, 46.36it/s]\n",
      "100%|██████████| 2000/2000 [00:42<00:00, 47.35it/s]\n",
      "100%|██████████| 1000/1000 [00:06<00:00, 146.07it/s]\n"
     ]
    },
    {
     "name": "stdout",
     "output_type": "stream",
     "text": [
      "------ Epoch 6 / 20 ------\n"
     ]
    },
    {
     "name": "stderr",
     "output_type": "stream",
     "text": [
      "100%|██████████| 10/10 [00:00<00:00, 46.88it/s]\n",
      "100%|██████████| 2000/2000 [00:42<00:00, 47.33it/s]\n",
      "100%|██████████| 1000/1000 [00:06<00:00, 145.82it/s]\n"
     ]
    },
    {
     "name": "stdout",
     "output_type": "stream",
     "text": [
      "------ Epoch 7 / 20 ------\n"
     ]
    },
    {
     "name": "stderr",
     "output_type": "stream",
     "text": [
      "100%|██████████| 10/10 [00:00<00:00, 47.36it/s]\n",
      "100%|██████████| 2000/2000 [00:42<00:00, 46.73it/s]\n",
      "100%|██████████| 1000/1000 [00:06<00:00, 144.12it/s]\n"
     ]
    },
    {
     "name": "stdout",
     "output_type": "stream",
     "text": [
      "------ Epoch 8 / 20 ------\n"
     ]
    },
    {
     "name": "stderr",
     "output_type": "stream",
     "text": [
      "100%|██████████| 10/10 [00:00<00:00, 46.43it/s]\n",
      "100%|██████████| 2000/2000 [00:42<00:00, 46.76it/s]\n",
      "100%|██████████| 1000/1000 [00:06<00:00, 149.18it/s]\n"
     ]
    },
    {
     "name": "stdout",
     "output_type": "stream",
     "text": [
      "------ Epoch 9 / 20 ------\n"
     ]
    },
    {
     "name": "stderr",
     "output_type": "stream",
     "text": [
      "100%|██████████| 10/10 [00:00<00:00, 46.02it/s]\n",
      "100%|██████████| 2000/2000 [00:42<00:00, 46.81it/s]\n",
      "100%|██████████| 1000/1000 [00:06<00:00, 145.17it/s]\n"
     ]
    },
    {
     "name": "stdout",
     "output_type": "stream",
     "text": [
      "------ Epoch 10 / 20 ------\n"
     ]
    },
    {
     "name": "stderr",
     "output_type": "stream",
     "text": [
      "100%|██████████| 10/10 [00:00<00:00, 47.29it/s]\n",
      "100%|██████████| 2000/2000 [00:42<00:00, 46.74it/s]\n",
      "100%|██████████| 1000/1000 [00:06<00:00, 146.62it/s]\n"
     ]
    },
    {
     "name": "stdout",
     "output_type": "stream",
     "text": [
      "------ Epoch 11 / 20 ------\n"
     ]
    },
    {
     "name": "stderr",
     "output_type": "stream",
     "text": [
      "100%|██████████| 10/10 [00:00<00:00, 45.96it/s]\n",
      "100%|██████████| 2000/2000 [00:42<00:00, 46.90it/s]\n",
      "100%|██████████| 1000/1000 [00:06<00:00, 145.13it/s]\n"
     ]
    },
    {
     "name": "stdout",
     "output_type": "stream",
     "text": [
      "------ Epoch 12 / 20 ------\n"
     ]
    },
    {
     "name": "stderr",
     "output_type": "stream",
     "text": [
      "100%|██████████| 10/10 [00:00<00:00, 46.25it/s]\n",
      "100%|██████████| 2000/2000 [00:42<00:00, 46.90it/s]\n",
      "100%|██████████| 1000/1000 [00:06<00:00, 144.87it/s]\n"
     ]
    },
    {
     "name": "stdout",
     "output_type": "stream",
     "text": [
      "------ Epoch 13 / 20 ------\n"
     ]
    },
    {
     "name": "stderr",
     "output_type": "stream",
     "text": [
      "100%|██████████| 10/10 [00:00<00:00, 45.93it/s]\n",
      "100%|██████████| 2000/2000 [00:42<00:00, 46.85it/s]\n",
      "100%|██████████| 1000/1000 [00:06<00:00, 143.43it/s]\n"
     ]
    },
    {
     "name": "stdout",
     "output_type": "stream",
     "text": [
      "------ Epoch 14 / 20 ------\n"
     ]
    },
    {
     "name": "stderr",
     "output_type": "stream",
     "text": [
      "100%|██████████| 10/10 [00:00<00:00, 45.23it/s]\n",
      "100%|██████████| 2000/2000 [00:42<00:00, 47.01it/s]\n",
      "100%|██████████| 1000/1000 [00:06<00:00, 147.72it/s]\n"
     ]
    },
    {
     "name": "stdout",
     "output_type": "stream",
     "text": [
      "------ Epoch 15 / 20 ------\n"
     ]
    },
    {
     "name": "stderr",
     "output_type": "stream",
     "text": [
      "100%|██████████| 10/10 [00:00<00:00, 47.05it/s]\n",
      "100%|██████████| 2000/2000 [00:42<00:00, 47.06it/s]\n",
      "100%|██████████| 1000/1000 [00:06<00:00, 146.70it/s]\n"
     ]
    },
    {
     "name": "stdout",
     "output_type": "stream",
     "text": [
      "------ Epoch 16 / 20 ------\n"
     ]
    },
    {
     "name": "stderr",
     "output_type": "stream",
     "text": [
      "100%|██████████| 10/10 [00:00<00:00, 45.55it/s]\n",
      "100%|██████████| 2000/2000 [00:42<00:00, 46.99it/s]\n",
      "100%|██████████| 1000/1000 [00:06<00:00, 144.12it/s]\n"
     ]
    },
    {
     "name": "stdout",
     "output_type": "stream",
     "text": [
      "------ Epoch 17 / 20 ------\n"
     ]
    },
    {
     "name": "stderr",
     "output_type": "stream",
     "text": [
      "100%|██████████| 10/10 [00:00<00:00, 47.71it/s]\n",
      "100%|██████████| 2000/2000 [00:42<00:00, 46.83it/s]\n",
      "100%|██████████| 1000/1000 [00:06<00:00, 146.88it/s]\n"
     ]
    },
    {
     "name": "stdout",
     "output_type": "stream",
     "text": [
      "------ Epoch 18 / 20 ------\n"
     ]
    },
    {
     "name": "stderr",
     "output_type": "stream",
     "text": [
      "100%|██████████| 10/10 [00:00<00:00, 46.34it/s]\n",
      "100%|██████████| 2000/2000 [00:42<00:00, 46.86it/s]\n",
      "100%|██████████| 1000/1000 [00:06<00:00, 147.19it/s]\n"
     ]
    },
    {
     "name": "stdout",
     "output_type": "stream",
     "text": [
      "------ Epoch 19 / 20 ------\n"
     ]
    },
    {
     "name": "stderr",
     "output_type": "stream",
     "text": [
      "100%|██████████| 10/10 [00:00<00:00, 46.13it/s]\n",
      "100%|██████████| 2000/2000 [00:42<00:00, 46.92it/s]\n",
      "100%|██████████| 1000/1000 [00:06<00:00, 144.71it/s]\n"
     ]
    },
    {
     "name": "stdout",
     "output_type": "stream",
     "text": [
      "------ Epoch 20 / 20 ------\n"
     ]
    },
    {
     "name": "stderr",
     "output_type": "stream",
     "text": [
      "100%|██████████| 10/10 [00:00<00:00, 49.07it/s]\n",
      "100%|██████████| 2000/2000 [00:42<00:00, 47.02it/s]\n",
      "100%|██████████| 1000/1000 [00:06<00:00, 144.52it/s]\n"
     ]
    }
   ],
   "source": [
    "transform_train_set = transforms.Compose([\n",
    "    transforms.ToTensor(),\n",
    "    transforms.Normalize(train_mean, train_std),\n",
    "])\n",
    "\n",
    "transform_test_set = transforms.Compose([\n",
    "    transforms.ToTensor(),\n",
    "    transforms.Normalize(train_mean, train_std),\n",
    "])\n",
    "\n",
    "cifar_10_dataset_reduced = CIFAR10Dataset(\n",
    "    file_location=\"./\",\n",
    "    n_no_labels_examples=20000,\n",
    "    transform_train=transform_train_set,\n",
    "    transform_test=transform_test_set,\n",
    ")\n",
    "\n",
    "train_losses, test_losses = auto_encoder.train(\n",
    "    dataset=cifar_10_dataset_reduced,\n",
    "    n_epochs=20,\n",
    "    learning_rate=0.1,\n",
    "    momentum=0.85,\n",
    ")"
   ]
  },
  {
   "cell_type": "markdown",
   "metadata": {
    "id": "-VV29ArkIPhh"
   },
   "source": [
    "Let's have a look at the training and test loss for the auto encoder model:"
   ]
  },
  {
   "cell_type": "code",
   "execution_count": 31,
   "metadata": {
    "colab": {
     "base_uri": "https://localhost:8080/",
     "height": 313
    },
    "id": "dHjaPUM8V8VC",
    "outputId": "09ebfd57-05b4-4311-da74-1a198b245a49"
   },
   "outputs": [
    {
     "data": {
      "text/plain": [
       "Text(0, 0.5, 'Loss')"
      ]
     },
     "execution_count": 31,
     "metadata": {},
     "output_type": "execute_result"
    },
    {
     "data": {
      "image/png": "[encoded data removed]",
      "text/plain": [
       "<Figure size 432x288 with 1 Axes>"
      ]
     },
     "metadata": {
      "needs_background": "light"
     },
     "output_type": "display_data"
    }
   ],
   "source": [
    "plt.plot(train_losses, label=\"train loss\")\n",
    "plt.plot(test_losses, label=\"test loss\")\n",
    "plt.legend()\n",
    "plt.title(\"Evolution of the loss for the auto encoder\")\n",
    "plt.xlabel(\"Epochs\")\n",
    "plt.ylabel(\"Loss\")"
   ]
  },
  {
   "cell_type": "markdown",
   "metadata": {
    "id": "m6yBxv5II3XM"
   },
   "source": [
    "Let's have a look at the reconstruction version of an image (the color aren't really relevant here as we are using the noramlized dataset, but the idea was to see if we get back shapes etc..)"
   ]
  },
  {
   "cell_type": "code",
   "execution_count": 33,
   "metadata": {
    "colab": {
     "base_uri": "https://localhost:8080/",
     "height": 523
    },
    "id": "Fx17_JHwWDGH",
    "outputId": "33974ee0-86c7-4dc6-b751-24fc3d7261cd"
   },
   "outputs": [
    {
     "name": "stderr",
     "output_type": "stream",
     "text": [
      "Clipping input data to the valid range for imshow with RGB data ([0..1] for floats or [0..255] for integers).\n",
      "Clipping input data to the valid range for imshow with RGB data ([0..1] for floats or [0..255] for integers).\n"
     ]
    },
    {
     "data": {
      "text/plain": [
       "Text(0.5, 1.0, 'Reconstructed image')"
      ]
     },
     "execution_count": 33,
     "metadata": {},
     "output_type": "execute_result"
    },
    {
     "data": {
      "image/png": "[encoded data removed]",
      "text/plain": [
       "<Figure size 1152x720 with 2 Axes>"
      ]
     },
     "metadata": {
      "needs_background": "light"
     },
     "output_type": "display_data"
    }
   ],
   "source": [
    "first_batch_images, first_batch_labels = iter(cifar_10_dataset_reduced.train_loader).next()\n",
    "\n",
    "first_batch_images = first_batch_images.to(device)\n",
    "reconstructions = auto_encoder(first_batch_images).cpu().detach()\n",
    "\n",
    "index = 7\n",
    "\n",
    "fig, ax = plt.subplots(1, 2, figsize=(16, 10))\n",
    "\n",
    "plt.subplot(1, 2, 1)\n",
    "plt.imshow(reconstructions[index].T)\n",
    "plt.title(\"Original image\")\n",
    "\n",
    "plt.subplot(1, 2, 2)\n",
    "plt.imshow(first_batch_images[index].cpu().T)\n",
    "plt.title(\"Reconstructed image\")"
   ]
  },
  {
   "cell_type": "markdown",
   "metadata": {
    "id": "nejFwD9RH3MT"
   },
   "source": [
    "We now build the classifier which will consists in the encoder trained before (for features extraction), followed by 2 fully connected layers. Only these two last layers will be trained on the 100 labeled examples of the CIFAR10 dataset."
   ]
  },
  {
   "cell_type": "code",
   "execution_count": 45,
   "metadata": {
    "id": "i6wWCbBOfmE_"
   },
   "outputs": [],
   "source": [
    "class WeakClassifier(nn.Module):\n",
    "  def __init__(self, encoder, n_classes):\n",
    "    super(WeakClassifier, self).__init__()\n",
    "    self.encoder = encoder\n",
    "\n",
    "    self.fc_layers = nn.Sequential(\n",
    "            nn.Linear(128, n_classes),\n",
    "        )\n",
    "\n",
    "  def forward(self, x):\n",
    "    x = self.encoder(x)\n",
    "    x = self.fc_layers(x)\n",
    "    return x"
   ]
  },
  {
   "cell_type": "code",
   "execution_count": 46,
   "metadata": {
    "id": "TZmWCS7-hssV"
   },
   "outputs": [],
   "source": [
    "weak_classifier = WeakClassifier(encoder, 10)\n",
    "\n",
    "weak_classifier = weak_classifier.to(device)\n",
    "\n",
    "classif_pipeline_weak = ClassificationPipeline(\n",
    "    weak_classifier,\n",
    "    cifar_10_dataset_reduced,\n",
    ")"
   ]
  },
  {
   "cell_type": "code",
   "execution_count": 47,
   "metadata": {
    "id": "F9cBVTH_NvIa"
   },
   "outputs": [],
   "source": [
    "for param in weak_classifier.encoder.parameters():\n",
    "  param.requires_grad = False"
   ]
  },
  {
   "cell_type": "code",
   "execution_count": 48,
   "metadata": {
    "colab": {
     "base_uri": "https://localhost:8080/"
    },
    "id": "J3NpO5HRNLau",
    "outputId": "0f7fc754-be8b-4748-d1ea-3016af6b798f"
   },
   "outputs": [
    {
     "name": "stdout",
     "output_type": "stream",
     "text": [
      "------ Epoch 1 / 20 ------\n"
     ]
    },
    {
     "name": "stderr",
     "output_type": "stream",
     "text": [
      "100%|██████████| 10/10 [00:00<00:00, 114.26it/s]\n",
      "100%|██████████| 1000/1000 [00:07<00:00, 133.10it/s]\n"
     ]
    },
    {
     "name": "stdout",
     "output_type": "stream",
     "text": [
      "------ Epoch 2 / 20 ------\n"
     ]
    },
    {
     "name": "stderr",
     "output_type": "stream",
     "text": [
      "100%|██████████| 10/10 [00:00<00:00, 115.21it/s]\n",
      "100%|██████████| 1000/1000 [00:07<00:00, 133.69it/s]\n"
     ]
    },
    {
     "name": "stdout",
     "output_type": "stream",
     "text": [
      "------ Epoch 3 / 20 ------\n"
     ]
    },
    {
     "name": "stderr",
     "output_type": "stream",
     "text": [
      "100%|██████████| 10/10 [00:00<00:00, 115.72it/s]\n",
      "100%|██████████| 1000/1000 [00:07<00:00, 133.17it/s]\n"
     ]
    },
    {
     "name": "stdout",
     "output_type": "stream",
     "text": [
      "------ Epoch 4 / 20 ------\n"
     ]
    },
    {
     "name": "stderr",
     "output_type": "stream",
     "text": [
      "100%|██████████| 10/10 [00:00<00:00, 117.99it/s]\n",
      "100%|██████████| 1000/1000 [00:07<00:00, 135.52it/s]\n"
     ]
    },
    {
     "name": "stdout",
     "output_type": "stream",
     "text": [
      "------ Epoch 5 / 20 ------\n"
     ]
    },
    {
     "name": "stderr",
     "output_type": "stream",
     "text": [
      "100%|██████████| 10/10 [00:00<00:00, 116.66it/s]\n",
      "100%|██████████| 1000/1000 [00:07<00:00, 134.31it/s]\n"
     ]
    },
    {
     "name": "stdout",
     "output_type": "stream",
     "text": [
      "------ Epoch 6 / 20 ------\n"
     ]
    },
    {
     "name": "stderr",
     "output_type": "stream",
     "text": [
      "100%|██████████| 10/10 [00:00<00:00, 111.88it/s]\n",
      "100%|██████████| 1000/1000 [00:07<00:00, 133.59it/s]\n"
     ]
    },
    {
     "name": "stdout",
     "output_type": "stream",
     "text": [
      "------ Epoch 7 / 20 ------\n"
     ]
    },
    {
     "name": "stderr",
     "output_type": "stream",
     "text": [
      "100%|██████████| 10/10 [00:00<00:00, 126.69it/s]\n",
      "100%|██████████| 1000/1000 [00:07<00:00, 133.34it/s]\n"
     ]
    },
    {
     "name": "stdout",
     "output_type": "stream",
     "text": [
      "------ Epoch 8 / 20 ------\n"
     ]
    },
    {
     "name": "stderr",
     "output_type": "stream",
     "text": [
      "100%|██████████| 10/10 [00:00<00:00, 94.94it/s]\n",
      "100%|██████████| 1000/1000 [00:07<00:00, 134.17it/s]\n"
     ]
    },
    {
     "name": "stdout",
     "output_type": "stream",
     "text": [
      "------ Epoch 9 / 20 ------\n"
     ]
    },
    {
     "name": "stderr",
     "output_type": "stream",
     "text": [
      "100%|██████████| 10/10 [00:00<00:00, 113.78it/s]\n",
      "100%|██████████| 1000/1000 [00:07<00:00, 133.79it/s]\n"
     ]
    },
    {
     "name": "stdout",
     "output_type": "stream",
     "text": [
      "------ Epoch 10 / 20 ------\n"
     ]
    },
    {
     "name": "stderr",
     "output_type": "stream",
     "text": [
      "100%|██████████| 10/10 [00:00<00:00, 112.66it/s]\n",
      "100%|██████████| 1000/1000 [00:07<00:00, 133.83it/s]\n"
     ]
    },
    {
     "name": "stdout",
     "output_type": "stream",
     "text": [
      "------ Epoch 11 / 20 ------\n"
     ]
    },
    {
     "name": "stderr",
     "output_type": "stream",
     "text": [
      "100%|██████████| 10/10 [00:00<00:00, 117.66it/s]\n",
      "100%|██████████| 1000/1000 [00:08<00:00, 118.32it/s]\n"
     ]
    },
    {
     "name": "stdout",
     "output_type": "stream",
     "text": [
      "------ Epoch 12 / 20 ------\n"
     ]
    },
    {
     "name": "stderr",
     "output_type": "stream",
     "text": [
      "100%|██████████| 10/10 [00:00<00:00, 111.47it/s]\n",
      "100%|██████████| 1000/1000 [00:07<00:00, 133.23it/s]\n"
     ]
    },
    {
     "name": "stdout",
     "output_type": "stream",
     "text": [
      "------ Epoch 13 / 20 ------\n"
     ]
    },
    {
     "name": "stderr",
     "output_type": "stream",
     "text": [
      "100%|██████████| 10/10 [00:00<00:00, 114.73it/s]\n",
      "100%|██████████| 1000/1000 [00:07<00:00, 133.20it/s]\n"
     ]
    },
    {
     "name": "stdout",
     "output_type": "stream",
     "text": [
      "------ Epoch 14 / 20 ------\n"
     ]
    },
    {
     "name": "stderr",
     "output_type": "stream",
     "text": [
      "100%|██████████| 10/10 [00:00<00:00, 118.41it/s]\n",
      "100%|██████████| 1000/1000 [00:07<00:00, 133.37it/s]\n"
     ]
    },
    {
     "name": "stdout",
     "output_type": "stream",
     "text": [
      "------ Epoch 15 / 20 ------\n"
     ]
    },
    {
     "name": "stderr",
     "output_type": "stream",
     "text": [
      "100%|██████████| 10/10 [00:00<00:00, 119.79it/s]\n",
      "100%|██████████| 1000/1000 [00:07<00:00, 134.53it/s]\n"
     ]
    },
    {
     "name": "stdout",
     "output_type": "stream",
     "text": [
      "------ Epoch 16 / 20 ------\n"
     ]
    },
    {
     "name": "stderr",
     "output_type": "stream",
     "text": [
      "100%|██████████| 10/10 [00:00<00:00, 111.72it/s]\n",
      "100%|██████████| 1000/1000 [00:07<00:00, 134.28it/s]\n"
     ]
    },
    {
     "name": "stdout",
     "output_type": "stream",
     "text": [
      "------ Epoch 17 / 20 ------\n"
     ]
    },
    {
     "name": "stderr",
     "output_type": "stream",
     "text": [
      "100%|██████████| 10/10 [00:00<00:00, 117.85it/s]\n",
      "100%|██████████| 1000/1000 [00:07<00:00, 133.88it/s]\n"
     ]
    },
    {
     "name": "stdout",
     "output_type": "stream",
     "text": [
      "------ Epoch 18 / 20 ------\n"
     ]
    },
    {
     "name": "stderr",
     "output_type": "stream",
     "text": [
      "100%|██████████| 10/10 [00:00<00:00, 121.94it/s]\n",
      "100%|██████████| 1000/1000 [00:07<00:00, 133.66it/s]\n"
     ]
    },
    {
     "name": "stdout",
     "output_type": "stream",
     "text": [
      "------ Epoch 19 / 20 ------\n"
     ]
    },
    {
     "name": "stderr",
     "output_type": "stream",
     "text": [
      "100%|██████████| 10/10 [00:00<00:00, 115.90it/s]\n",
      "100%|██████████| 1000/1000 [00:07<00:00, 132.51it/s]\n"
     ]
    },
    {
     "name": "stdout",
     "output_type": "stream",
     "text": [
      "------ Epoch 20 / 20 ------\n"
     ]
    },
    {
     "name": "stderr",
     "output_type": "stream",
     "text": [
      "100%|██████████| 10/10 [00:00<00:00, 56.22it/s]\n",
      "100%|██████████| 1000/1000 [00:07<00:00, 134.08it/s]\n"
     ]
    }
   ],
   "source": [
    "(train_accuracies_weak,\n",
    " test_accuracies_weak,\n",
    " train_losses_weak,\n",
    " test_losses_weak) = classif_pipeline_weak.train(\n",
    "    learning_rate=0.005, momentum=0.85, n_epochs=20\n",
    "  )"
   ]
  },
  {
   "cell_type": "code",
   "execution_count": 49,
   "metadata": {
    "colab": {
     "base_uri": "https://localhost:8080/",
     "height": 656
    },
    "id": "efO_OkYzN1hS",
    "outputId": "21fd8a53-901b-44df-c0ef-dff2dd863d03"
   },
   "outputs": [
    {
     "name": "stdout",
     "output_type": "stream",
     "text": [
      "Final training accuracy: 56.99999999999999\n",
      "Final test accuracy: 13.81\n"
     ]
    },
    {
     "data": {
      "image/png": "[encoded data removed]",
      "text/plain": [
       "<Figure size 1152x720 with 2 Axes>"
      ]
     },
     "metadata": {
      "needs_background": "light"
     },
     "output_type": "display_data"
    }
   ],
   "source": [
    "plot_model_results(\n",
    "    train_accuracies_weak,\n",
    "    test_accuracies_weak,\n",
    "    train_losses_weak,\n",
    "    test_losses_weak\n",
    ")"
   ]
  },
  {
   "cell_type": "markdown",
   "metadata": {
    "id": "mOsC2f_AJKPp"
   },
   "source": [
    "Below is given the table of the performance:\n",
    "\n",
    "| Model | Number of  epochs  | Train accuracy | Test accuracy |\n",
    "|------|------|------|------|\n",
    "|   Weak classifier (with pretrained encoder) | 20 | 57.0% | 13.81% |"
   ]
  },
  {
   "cell_type": "markdown",
   "metadata": {
    "id": "jmXRJKzT2MhL"
   },
   "source": [
    "For this method, I have been using an autoencoder trained on 100 labeled examples and 20000 non labeled examples. Then, I have trained a classifier (a single fully connected layers). The performance of the classifier are worse than the one we got using transfer learning (13.81% test accuracy). This can be due to the fact that the classifier model is too simple (only one additional layer which is trained on the 100 examples). However, we notice that the gap between train and test accuracies is more narrow than previously, which could potentially mean that unsupervised method used with the non labaled data made it possible to learn features that were universal enough. Possible ways of improvement would be to make the last classifier more complex, but some trials have indicated that a similar behavior as in Question 3 was occuring (very high train accuracy and low test accuracies). Therefore, it might be necessary either to regularize the training procedure (dropout, early stopping...) or to use more data in the unsupervised step. \n",
    "\n",
    "Thanks for reading!"
   ]
  },
  {
   "cell_type": "code",
   "execution_count": null,
   "metadata": {
    "id": "_dkbemvtP_GX"
   },
   "outputs": [],
   "source": []
  }
 ],
 "metadata": {
  "accelerator": "GPU",
  "colab": {
   "collapsed_sections": [],
   "name": "TP4_transfer_Maxence_Gelard.ipynb",
   "provenance": []
  },
  "kernelspec": {
   "display_name": "Python 3",
   "language": "python",
   "name": "python3"
  },
  "language_info": {
   "codemirror_mode": {
    "name": "ipython",
    "version": 3
   },
   "file_extension": ".py",
   "mimetype": "text/x-python",
   "name": "python",
   "nbconvert_exporter": "python",
   "pygments_lexer": "ipython3",
   "version": "3.9.0"
  },
  "widgets": {
   "application/vnd.jupyter.widget-state+json": {
    "0a60854bea58412d97581f7046a4cdd4": {
     "model_module": "@jupyter-widgets/controls",
     "model_module_version": "1.5.0",
     "model_name": "ProgressStyleModel",
     "state": {
      "_model_module": "@jupyter-widgets/controls",
      "_model_module_version": "1.5.0",
      "_model_name": "ProgressStyleModel",
      "_view_count": null,
      "_view_module": "@jupyter-widgets/base",
      "_view_module_version": "1.2.0",
      "_view_name": "StyleView",
      "bar_color": null,
      "description_width": ""
     }
    },
    "0cf448f4552e46e1ae003ada87883ac2": {
     "model_module": "@jupyter-widgets/controls",
     "model_module_version": "1.5.0",
     "model_name": "HTMLModel",
     "state": {
      "_dom_classes": [],
      "_model_module": "@jupyter-widgets/controls",
      "_model_module_version": "1.5.0",
      "_model_name": "HTMLModel",
      "_view_count": null,
      "_view_module": "@jupyter-widgets/controls",
      "_view_module_version": "1.5.0",
      "_view_name": "HTMLView",
      "description": "",
      "description_tooltip": null,
      "layout": "IPY_MODEL_1b827a1a24ed43c2b7ea7a49f2a8b698",
      "placeholder": "​",
      "style": "IPY_MODEL_dbda265b1d334146b2eeb713858efdc1",
      "value": "100%"
     }
    },
    "16aa5ea02ca54b7e80beee210167a2fa": {
     "model_module": "@jupyter-widgets/base",
     "model_module_version": "1.2.0",
     "model_name": "LayoutModel",
     "state": {
      "_model_module": "@jupyter-widgets/base",
      "_model_module_version": "1.2.0",
      "_model_name": "LayoutModel",
      "_view_count": null,
      "_view_module": "@jupyter-widgets/base",
      "_view_module_version": "1.2.0",
      "_view_name": "LayoutView",
      "align_content": null,
      "align_items": null,
      "align_self": null,
      "border": null,
      "bottom": null,
      "display": null,
      "flex": null,
      "flex_flow": null,
      "grid_area": null,
      "grid_auto_columns": null,
      "grid_auto_flow": null,
      "grid_auto_rows": null,
      "grid_column": null,
      "grid_gap": null,
      "grid_row": null,
      "grid_template_areas": null,
      "grid_template_columns": null,
      "grid_template_rows": null,
      "height": null,
      "justify_content": null,
      "justify_items": null,
      "left": null,
      "margin": null,
      "max_height": null,
      "max_width": null,
      "min_height": null,
      "min_width": null,
      "object_fit": null,
      "object_position": null,
      "order": null,
      "overflow": null,
      "overflow_x": null,
      "overflow_y": null,
      "padding": null,
      "right": null,
      "top": null,
      "visibility": null,
      "width": null
     }
    },
    "1986a6293a634f07a00c0ea13e7f4042": {
     "model_module": "@jupyter-widgets/controls",
     "model_module_version": "1.5.0",
     "model_name": "HTMLModel",
     "state": {
      "_dom_classes": [],
      "_model_module": "@jupyter-widgets/controls",
      "_model_module_version": "1.5.0",
      "_model_name": "HTMLModel",
      "_view_count": null,
      "_view_module": "@jupyter-widgets/controls",
      "_view_module_version": "1.5.0",
      "_view_name": "HTMLView",
      "description": "",
      "description_tooltip": null,
      "layout": "IPY_MODEL_a9d7c6a395fa4a608ab925da93194025",
      "placeholder": "​",
      "style": "IPY_MODEL_99693b9fd919421580ad32e1e48227eb",
      "value": " 44.7M/44.7M [00:00&lt;00:00, 74.7MB/s]"
     }
    },
    "1b4d49c699c54d218513de9f3d721ab5": {
     "model_module": "@jupyter-widgets/base",
     "model_module_version": "1.2.0",
     "model_name": "LayoutModel",
     "state": {
      "_model_module": "@jupyter-widgets/base",
      "_model_module_version": "1.2.0",
      "_model_name": "LayoutModel",
      "_view_count": null,
      "_view_module": "@jupyter-widgets/base",
      "_view_module_version": "1.2.0",
      "_view_name": "LayoutView",
      "align_content": null,
      "align_items": null,
      "align_self": null,
      "border": null,
      "bottom": null,
      "display": null,
      "flex": null,
      "flex_flow": null,
      "grid_area": null,
      "grid_auto_columns": null,
      "grid_auto_flow": null,
      "grid_auto_rows": null,
      "grid_column": null,
      "grid_gap": null,
      "grid_row": null,
      "grid_template_areas": null,
      "grid_template_columns": null,
      "grid_template_rows": null,
      "height": null,
      "justify_content": null,
      "justify_items": null,
      "left": null,
      "margin": null,
      "max_height": null,
      "max_width": null,
      "min_height": null,
      "min_width": null,
      "object_fit": null,
      "object_position": null,
      "order": null,
      "overflow": null,
      "overflow_x": null,
      "overflow_y": null,
      "padding": null,
      "right": null,
      "top": null,
      "visibility": null,
      "width": null
     }
    },
    "1b827a1a24ed43c2b7ea7a49f2a8b698": {
     "model_module": "@jupyter-widgets/base",
     "model_module_version": "1.2.0",
     "model_name": "LayoutModel",
     "state": {
      "_model_module": "@jupyter-widgets/base",
      "_model_module_version": "1.2.0",
      "_model_name": "LayoutModel",
      "_view_count": null,
      "_view_module": "@jupyter-widgets/base",
      "_view_module_version": "1.2.0",
      "_view_name": "LayoutView",
      "align_content": null,
      "align_items": null,
      "align_self": null,
      "border": null,
      "bottom": null,
      "display": null,
      "flex": null,
      "flex_flow": null,
      "grid_area": null,
      "grid_auto_columns": null,
      "grid_auto_flow": null,
      "grid_auto_rows": null,
      "grid_column": null,
      "grid_gap": null,
      "grid_row": null,
      "grid_template_areas": null,
      "grid_template_columns": null,
      "grid_template_rows": null,
      "height": null,
      "justify_content": null,
      "justify_items": null,
      "left": null,
      "margin": null,
      "max_height": null,
      "max_width": null,
      "min_height": null,
      "min_width": null,
      "object_fit": null,
      "object_position": null,
      "order": null,
      "overflow": null,
      "overflow_x": null,
      "overflow_y": null,
      "padding": null,
      "right": null,
      "top": null,
      "visibility": null,
      "width": null
     }
    },
    "1e474124f7da4e058b955a118c1e4054": {
     "model_module": "@jupyter-widgets/controls",
     "model_module_version": "1.5.0",
     "model_name": "HTMLModel",
     "state": {
      "_dom_classes": [],
      "_model_module": "@jupyter-widgets/controls",
      "_model_module_version": "1.5.0",
      "_model_name": "HTMLModel",
      "_view_count": null,
      "_view_module": "@jupyter-widgets/controls",
      "_view_module_version": "1.5.0",
      "_view_name": "HTMLView",
      "description": "",
      "description_tooltip": null,
      "layout": "IPY_MODEL_c7e273ada0fe4c5ea077d0710e2d019b",
      "placeholder": "​",
      "style": "IPY_MODEL_83adf2d56b1c424aa48222a22db39541",
      "value": " 170499072/? [00:02&lt;00:00, 60082582.11it/s]"
     }
    },
    "229d32b14b7742e7ba775f6b657b7c76": {
     "model_module": "@jupyter-widgets/controls",
     "model_module_version": "1.5.0",
     "model_name": "FloatProgressModel",
     "state": {
      "_dom_classes": [],
      "_model_module": "@jupyter-widgets/controls",
      "_model_module_version": "1.5.0",
      "_model_name": "FloatProgressModel",
      "_view_count": null,
      "_view_module": "@jupyter-widgets/controls",
      "_view_module_version": "1.5.0",
      "_view_name": "ProgressView",
      "bar_style": "success",
      "description": "",
      "description_tooltip": null,
      "layout": "IPY_MODEL_1b4d49c699c54d218513de9f3d721ab5",
      "max": 46830571,
      "min": 0,
      "orientation": "horizontal",
      "style": "IPY_MODEL_3719a08dd1324b03b79fdded811df6f4",
      "value": 46830571
     }
    },
    "3719a08dd1324b03b79fdded811df6f4": {
     "model_module": "@jupyter-widgets/controls",
     "model_module_version": "1.5.0",
     "model_name": "ProgressStyleModel",
     "state": {
      "_model_module": "@jupyter-widgets/controls",
      "_model_module_version": "1.5.0",
      "_model_name": "ProgressStyleModel",
      "_view_count": null,
      "_view_module": "@jupyter-widgets/base",
      "_view_module_version": "1.2.0",
      "_view_name": "StyleView",
      "bar_color": null,
      "description_width": ""
     }
    },
    "49ff3078c0394bbea32124cf9cf11381": {
     "model_module": "@jupyter-widgets/base",
     "model_module_version": "1.2.0",
     "model_name": "LayoutModel",
     "state": {
      "_model_module": "@jupyter-widgets/base",
      "_model_module_version": "1.2.0",
      "_model_name": "LayoutModel",
      "_view_count": null,
      "_view_module": "@jupyter-widgets/base",
      "_view_module_version": "1.2.0",
      "_view_name": "LayoutView",
      "align_content": null,
      "align_items": null,
      "align_self": null,
      "border": null,
      "bottom": null,
      "display": null,
      "flex": null,
      "flex_flow": null,
      "grid_area": null,
      "grid_auto_columns": null,
      "grid_auto_flow": null,
      "grid_auto_rows": null,
      "grid_column": null,
      "grid_gap": null,
      "grid_row": null,
      "grid_template_areas": null,
      "grid_template_columns": null,
      "grid_template_rows": null,
      "height": null,
      "justify_content": null,
      "justify_items": null,
      "left": null,
      "margin": null,
      "max_height": null,
      "max_width": null,
      "min_height": null,
      "min_width": null,
      "object_fit": null,
      "object_position": null,
      "order": null,
      "overflow": null,
      "overflow_x": null,
      "overflow_y": null,
      "padding": null,
      "right": null,
      "top": null,
      "visibility": null,
      "width": null
     }
    },
    "6af19546e32f40c38976813fc36779af": {
     "model_module": "@jupyter-widgets/controls",
     "model_module_version": "1.5.0",
     "model_name": "HBoxModel",
     "state": {
      "_dom_classes": [],
      "_model_module": "@jupyter-widgets/controls",
      "_model_module_version": "1.5.0",
      "_model_name": "HBoxModel",
      "_view_count": null,
      "_view_module": "@jupyter-widgets/controls",
      "_view_module_version": "1.5.0",
      "_view_name": "HBoxView",
      "box_style": "",
      "children": [
       "IPY_MODEL_0cf448f4552e46e1ae003ada87883ac2",
       "IPY_MODEL_229d32b14b7742e7ba775f6b657b7c76",
       "IPY_MODEL_1986a6293a634f07a00c0ea13e7f4042"
      ],
      "layout": "IPY_MODEL_ba5504d59e6b46fcbe8f81e619008527"
     }
    },
    "782af38c831d43ae9cfc66ade43586bd": {
     "model_module": "@jupyter-widgets/controls",
     "model_module_version": "1.5.0",
     "model_name": "DescriptionStyleModel",
     "state": {
      "_model_module": "@jupyter-widgets/controls",
      "_model_module_version": "1.5.0",
      "_model_name": "DescriptionStyleModel",
      "_view_count": null,
      "_view_module": "@jupyter-widgets/base",
      "_view_module_version": "1.2.0",
      "_view_name": "StyleView",
      "description_width": ""
     }
    },
    "83adf2d56b1c424aa48222a22db39541": {
     "model_module": "@jupyter-widgets/controls",
     "model_module_version": "1.5.0",
     "model_name": "DescriptionStyleModel",
     "state": {
      "_model_module": "@jupyter-widgets/controls",
      "_model_module_version": "1.5.0",
      "_model_name": "DescriptionStyleModel",
      "_view_count": null,
      "_view_module": "@jupyter-widgets/base",
      "_view_module_version": "1.2.0",
      "_view_name": "StyleView",
      "description_width": ""
     }
    },
    "8bed0ae4107841609933a080bb5cc5be": {
     "model_module": "@jupyter-widgets/base",
     "model_module_version": "1.2.0",
     "model_name": "LayoutModel",
     "state": {
      "_model_module": "@jupyter-widgets/base",
      "_model_module_version": "1.2.0",
      "_model_name": "LayoutModel",
      "_view_count": null,
      "_view_module": "@jupyter-widgets/base",
      "_view_module_version": "1.2.0",
      "_view_name": "LayoutView",
      "align_content": null,
      "align_items": null,
      "align_self": null,
      "border": null,
      "bottom": null,
      "display": null,
      "flex": null,
      "flex_flow": null,
      "grid_area": null,
      "grid_auto_columns": null,
      "grid_auto_flow": null,
      "grid_auto_rows": null,
      "grid_column": null,
      "grid_gap": null,
      "grid_row": null,
      "grid_template_areas": null,
      "grid_template_columns": null,
      "grid_template_rows": null,
      "height": null,
      "justify_content": null,
      "justify_items": null,
      "left": null,
      "margin": null,
      "max_height": null,
      "max_width": null,
      "min_height": null,
      "min_width": null,
      "object_fit": null,
      "object_position": null,
      "order": null,
      "overflow": null,
      "overflow_x": null,
      "overflow_y": null,
      "padding": null,
      "right": null,
      "top": null,
      "visibility": null,
      "width": null
     }
    },
    "99693b9fd919421580ad32e1e48227eb": {
     "model_module": "@jupyter-widgets/controls",
     "model_module_version": "1.5.0",
     "model_name": "DescriptionStyleModel",
     "state": {
      "_model_module": "@jupyter-widgets/controls",
      "_model_module_version": "1.5.0",
      "_model_name": "DescriptionStyleModel",
      "_view_count": null,
      "_view_module": "@jupyter-widgets/base",
      "_view_module_version": "1.2.0",
      "_view_name": "StyleView",
      "description_width": ""
     }
    },
    "a9d7c6a395fa4a608ab925da93194025": {
     "model_module": "@jupyter-widgets/base",
     "model_module_version": "1.2.0",
     "model_name": "LayoutModel",
     "state": {
      "_model_module": "@jupyter-widgets/base",
      "_model_module_version": "1.2.0",
      "_model_name": "LayoutModel",
      "_view_count": null,
      "_view_module": "@jupyter-widgets/base",
      "_view_module_version": "1.2.0",
      "_view_name": "LayoutView",
      "align_content": null,
      "align_items": null,
      "align_self": null,
      "border": null,
      "bottom": null,
      "display": null,
      "flex": null,
      "flex_flow": null,
      "grid_area": null,
      "grid_auto_columns": null,
      "grid_auto_flow": null,
      "grid_auto_rows": null,
      "grid_column": null,
      "grid_gap": null,
      "grid_row": null,
      "grid_template_areas": null,
      "grid_template_columns": null,
      "grid_template_rows": null,
      "height": null,
      "justify_content": null,
      "justify_items": null,
      "left": null,
      "margin": null,
      "max_height": null,
      "max_width": null,
      "min_height": null,
      "min_width": null,
      "object_fit": null,
      "object_position": null,
      "order": null,
      "overflow": null,
      "overflow_x": null,
      "overflow_y": null,
      "padding": null,
      "right": null,
      "top": null,
      "visibility": null,
      "width": null
     }
    },
    "b3f012c1c5394076ad8617af3cdd8dba": {
     "model_module": "@jupyter-widgets/controls",
     "model_module_version": "1.5.0",
     "model_name": "HTMLModel",
     "state": {
      "_dom_classes": [],
      "_model_module": "@jupyter-widgets/controls",
      "_model_module_version": "1.5.0",
      "_model_name": "HTMLModel",
      "_view_count": null,
      "_view_module": "@jupyter-widgets/controls",
      "_view_module_version": "1.5.0",
      "_view_name": "HTMLView",
      "description": "",
      "description_tooltip": null,
      "layout": "IPY_MODEL_8bed0ae4107841609933a080bb5cc5be",
      "placeholder": "​",
      "style": "IPY_MODEL_782af38c831d43ae9cfc66ade43586bd",
      "value": ""
     }
    },
    "b82dfaf42ad3423db93cde0e2a835fe9": {
     "model_module": "@jupyter-widgets/controls",
     "model_module_version": "1.5.0",
     "model_name": "HBoxModel",
     "state": {
      "_dom_classes": [],
      "_model_module": "@jupyter-widgets/controls",
      "_model_module_version": "1.5.0",
      "_model_name": "HBoxModel",
      "_view_count": null,
      "_view_module": "@jupyter-widgets/controls",
      "_view_module_version": "1.5.0",
      "_view_name": "HBoxView",
      "box_style": "",
      "children": [
       "IPY_MODEL_b3f012c1c5394076ad8617af3cdd8dba",
       "IPY_MODEL_eed7d8d48cdd4e96852b5252a808ac1e",
       "IPY_MODEL_1e474124f7da4e058b955a118c1e4054"
      ],
      "layout": "IPY_MODEL_16aa5ea02ca54b7e80beee210167a2fa"
     }
    },
    "ba5504d59e6b46fcbe8f81e619008527": {
     "model_module": "@jupyter-widgets/base",
     "model_module_version": "1.2.0",
     "model_name": "LayoutModel",
     "state": {
      "_model_module": "@jupyter-widgets/base",
      "_model_module_version": "1.2.0",
      "_model_name": "LayoutModel",
      "_view_count": null,
      "_view_module": "@jupyter-widgets/base",
      "_view_module_version": "1.2.0",
      "_view_name": "LayoutView",
      "align_content": null,
      "align_items": null,
      "align_self": null,
      "border": null,
      "bottom": null,
      "display": null,
      "flex": null,
      "flex_flow": null,
      "grid_area": null,
      "grid_auto_columns": null,
      "grid_auto_flow": null,
      "grid_auto_rows": null,
      "grid_column": null,
      "grid_gap": null,
      "grid_row": null,
      "grid_template_areas": null,
      "grid_template_columns": null,
      "grid_template_rows": null,
      "height": null,
      "justify_content": null,
      "justify_items": null,
      "left": null,
      "margin": null,
      "max_height": null,
      "max_width": null,
      "min_height": null,
      "min_width": null,
      "object_fit": null,
      "object_position": null,
      "order": null,
      "overflow": null,
      "overflow_x": null,
      "overflow_y": null,
      "padding": null,
      "right": null,
      "top": null,
      "visibility": null,
      "width": null
     }
    },
    "c7e273ada0fe4c5ea077d0710e2d019b": {
     "model_module": "@jupyter-widgets/base",
     "model_module_version": "1.2.0",
     "model_name": "LayoutModel",
     "state": {
      "_model_module": "@jupyter-widgets/base",
      "_model_module_version": "1.2.0",
      "_model_name": "LayoutModel",
      "_view_count": null,
      "_view_module": "@jupyter-widgets/base",
      "_view_module_version": "1.2.0",
      "_view_name": "LayoutView",
      "align_content": null,
      "align_items": null,
      "align_self": null,
      "border": null,
      "bottom": null,
      "display": null,
      "flex": null,
      "flex_flow": null,
      "grid_area": null,
      "grid_auto_columns": null,
      "grid_auto_flow": null,
      "grid_auto_rows": null,
      "grid_column": null,
      "grid_gap": null,
      "grid_row": null,
      "grid_template_areas": null,
      "grid_template_columns": null,
      "grid_template_rows": null,
      "height": null,
      "justify_content": null,
      "justify_items": null,
      "left": null,
      "margin": null,
      "max_height": null,
      "max_width": null,
      "min_height": null,
      "min_width": null,
      "object_fit": null,
      "object_position": null,
      "order": null,
      "overflow": null,
      "overflow_x": null,
      "overflow_y": null,
      "padding": null,
      "right": null,
      "top": null,
      "visibility": null,
      "width": null
     }
    },
    "dbda265b1d334146b2eeb713858efdc1": {
     "model_module": "@jupyter-widgets/controls",
     "model_module_version": "1.5.0",
     "model_name": "DescriptionStyleModel",
     "state": {
      "_model_module": "@jupyter-widgets/controls",
      "_model_module_version": "1.5.0",
      "_model_name": "DescriptionStyleModel",
      "_view_count": null,
      "_view_module": "@jupyter-widgets/base",
      "_view_module_version": "1.2.0",
      "_view_name": "StyleView",
      "description_width": ""
     }
    },
    "eed7d8d48cdd4e96852b5252a808ac1e": {
     "model_module": "@jupyter-widgets/controls",
     "model_module_version": "1.5.0",
     "model_name": "FloatProgressModel",
     "state": {
      "_dom_classes": [],
      "_model_module": "@jupyter-widgets/controls",
      "_model_module_version": "1.5.0",
      "_model_name": "FloatProgressModel",
      "_view_count": null,
      "_view_module": "@jupyter-widgets/controls",
      "_view_module_version": "1.5.0",
      "_view_name": "ProgressView",
      "bar_style": "success",
      "description": "",
      "description_tooltip": null,
      "layout": "IPY_MODEL_49ff3078c0394bbea32124cf9cf11381",
      "max": 170498071,
      "min": 0,
      "orientation": "horizontal",
      "style": "IPY_MODEL_0a60854bea58412d97581f7046a4cdd4",
      "value": 170498071
     }
    }
   }
  }
 },
 "nbformat": 4,
 "nbformat_minor": 1
}
